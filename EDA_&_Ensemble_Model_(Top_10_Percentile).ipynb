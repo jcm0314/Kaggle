{
  "metadata": {
    "_change_revision": 0,
    "_is_fork": false,
    "kernelspec": {
      "display_name": "Python 3",
      "language": "python",
      "name": "python3"
    },
    "language_info": {
      "name": "python",
      "version": "3.10.14",
      "mimetype": "text/x-python",
      "codemirror_mode": {
        "name": "ipython",
        "version": 3
      },
      "pygments_lexer": "ipython3",
      "nbconvert_exporter": "python",
      "file_extension": ".py"
    },
    "kaggle": {
      "accelerator": "none",
      "dataSources": [
        {
          "sourceId": 3948,
          "databundleVersionId": 32624,
          "sourceType": "competition"
        }
      ],
      "dockerImageVersionId": 30786,
      "isInternetEnabled": false,
      "language": "python",
      "sourceType": "notebook",
      "isGpuEnabled": false
    },
    "colab": {
      "name": "EDA & Ensemble Model (Top 10 Percentile) ",
      "provenance": [],
      "include_colab_link": true
    }
  },
  "nbformat_minor": 0,
  "nbformat": 4,
  "cells": [
    {
      "cell_type": "markdown",
      "metadata": {
        "id": "view-in-github",
        "colab_type": "text"
      },
      "source": [
        "<a href=\"https://colab.research.google.com/github/jcm0314/Kaggle/blob/main/EDA_%26_Ensemble_Model_(Top_10_Percentile).ipynb\" target=\"_parent\"><img src=\"https://colab.research.google.com/assets/colab-badge.svg\" alt=\"Open In Colab\"/></a>"
      ]
    },
    {
      "source": [
        "# IMPORTANT: SOME KAGGLE DATA SOURCES ARE PRIVATE\n",
        "# RUN THIS CELL IN ORDER TO IMPORT YOUR KAGGLE DATA SOURCES.\n",
        "import kagglehub\n",
        "kagglehub.login()\n"
      ],
      "metadata": {
        "id": "IT0y2TB9bpsb"
      },
      "cell_type": "code",
      "outputs": [],
      "execution_count": null
    },
    {
      "source": [
        "# IMPORTANT: RUN THIS CELL IN ORDER TO IMPORT YOUR KAGGLE DATA SOURCES,\n",
        "# THEN FEEL FREE TO DELETE THIS CELL.\n",
        "# NOTE: THIS NOTEBOOK ENVIRONMENT DIFFERS FROM KAGGLE'S PYTHON\n",
        "# ENVIRONMENT SO THERE MAY BE MISSING LIBRARIES USED BY YOUR\n",
        "# NOTEBOOK.\n",
        "\n",
        "bike_sharing_demand_path = kagglehub.competition_download('bike-sharing-demand')\n",
        "\n",
        "print('Data source import complete.')\n"
      ],
      "metadata": {
        "id": "7Tv5jfbrbpsd"
      },
      "cell_type": "code",
      "outputs": [],
      "execution_count": null
    },
    {
      "cell_type": "markdown",
      "source": [
        "This notebook explains how we can go about explore and prepare data for model building.The notebook is structured in the following way\n",
        "\n",
        " - About Dataset\n",
        " - Data Summary\n",
        " - Feature Engineering\n",
        " - Missing Value Analysis\n",
        " - Outlier Analysis\n",
        " - Correlation Analysis\n",
        " - Visualizing Distribution Of Data\n",
        " - Visualizing Count Vs (Month,Season,Hour,Weekday,Usertype)\n",
        " - Filling 0's In Windspeed Using Random Forest\n",
        " - Linear Regression Model\n",
        " - Regularization Models\n",
        " - Ensemble Models"
      ],
      "metadata": {
        "_cell_guid": "29ce58a2-2b6a-6869-8535-43ffdf2a040c",
        "id": "Bwz4hOn8bpse"
      }
    },
    {
      "cell_type": "markdown",
      "source": [
        "## About Dataset"
      ],
      "metadata": {
        "_cell_guid": "783f3ec4-bb24-8414-1055-5dc24748ce68",
        "id": "meOR5qp9bpsg"
      }
    },
    {
      "cell_type": "markdown",
      "source": [
        "#### **Overview**\n",
        "\n",
        "Bike sharing systems are a means of renting bicycles where the process of obtaining membership, rental, and bike return is automated via a network of kiosk locations throughout a city. Using these systems, people are able rent a bike from a one location and return it to a different place on an as-needed basis. Currently, there are over 500 bike-sharing programs around the world.\n",
        "\n",
        "#### **Data Fields**\n",
        "\n",
        "* datetime - hourly date + timestamp  \n",
        "* season -  1 = spring, 2 = summer, 3 = fall, 4 = winter\n",
        "* holiday - whether the day is considered a holiday\n",
        "* workingday - whether the day is neither a weekend nor holiday\n",
        "* weather -\n",
        "    * 1: Clear, Few clouds, Partly cloudy, Partly cloudy\n",
        "    * 2: Mist + Cloudy, Mist + Broken clouds, Mist + Few clouds, Mist\n",
        "    * 3: Light Snow, Light Rain + Thunderstorm + Scattered clouds, Light Rain + Scattered clouds\n",
        "    * 4: Heavy Rain + Ice Pallets + Thunderstorm + Mist, Snow + Fog\n",
        "* temp - temperature in Celsius\n",
        "* atemp - \"feels like\" temperature in Celsius\n",
        "* humidity - relative humidity\n",
        "* windspeed - wind speed\n",
        "* casual - number of non-registered user rentals initiated\n",
        "* registered - number of registered user rentals initiated\n",
        "* count - number of total rentals (Dependent Variable)"
      ],
      "metadata": {
        "_cell_guid": "d0754314-700d-e91c-6e39-55c083cf085e",
        "id": "jXAomVdqbpsh"
      }
    },
    {
      "cell_type": "code",
      "source": [
        "import pylab\n",
        "import calendar\n",
        "import numpy as np\n",
        "import pandas as pd\n",
        "import seaborn as sn\n",
        "from scipy import stats\n",
        "import missingno as msno\n",
        "from datetime import datetime\n",
        "import matplotlib.pyplot as plt\n",
        "import warnings\n",
        "pd.options.mode.chained_assignment = None\n",
        "warnings.filterwarnings(\"ignore\", category=DeprecationWarning)\n",
        "%matplotlib inline"
      ],
      "metadata": {
        "_cell_guid": "548437f4-7dcb-60a4-0a79-74d9594b071b",
        "execution": {
          "iopub.status.busy": "2024-10-04T19:28:18.823172Z",
          "iopub.execute_input": "2024-10-04T19:28:18.82364Z",
          "iopub.status.idle": "2024-10-04T19:28:21.852064Z",
          "shell.execute_reply.started": "2024-10-04T19:28:18.823594Z",
          "shell.execute_reply": "2024-10-04T19:28:21.850836Z"
        },
        "trusted": true,
        "id": "t5IbO9Nwbpsl"
      },
      "execution_count": null,
      "outputs": []
    },
    {
      "cell_type": "markdown",
      "source": [
        "#### **Lets Read In The Dataset**"
      ],
      "metadata": {
        "_cell_guid": "ec94edf8-890a-0ba2-decc-914582ac316d",
        "id": "QVDCdapZbpsm"
      }
    },
    {
      "cell_type": "code",
      "source": [
        "dailyData = pd.read_csv(\"../input/train.csv\")"
      ],
      "metadata": {
        "_cell_guid": "057b1690-5b93-9f14-eafe-fad12c00da69",
        "execution": {
          "iopub.status.busy": "2024-10-04T19:28:21.854705Z",
          "iopub.execute_input": "2024-10-04T19:28:21.855378Z",
          "iopub.status.idle": "2024-10-04T19:28:21.90809Z",
          "shell.execute_reply.started": "2024-10-04T19:28:21.855321Z",
          "shell.execute_reply": "2024-10-04T19:28:21.906937Z"
        },
        "trusted": true,
        "id": "ZflUDSMIbpsn"
      },
      "execution_count": null,
      "outputs": []
    },
    {
      "cell_type": "markdown",
      "source": [
        "## Data Summary\n",
        "\n",
        "As a first step lets do three simple steps on the dataset\n",
        "\n",
        " - Size of the dataset\n",
        " - Get a glimpse of data by printing few rows of it.\n",
        " - What type of variables contribute our data"
      ],
      "metadata": {
        "_cell_guid": "4eab050d-65c1-7c33-5414-c408a553950d",
        "id": "v8W15fw_bpsn"
      }
    },
    {
      "cell_type": "markdown",
      "source": [
        "#### **Shape Of The Dataset**"
      ],
      "metadata": {
        "_cell_guid": "579ef8b7-02ad-7087-f27e-cc817f58f90a",
        "id": "Umbzuwv9bpso"
      }
    },
    {
      "cell_type": "code",
      "source": [
        "dailyData.shape"
      ],
      "metadata": {
        "_cell_guid": "4b5eee60-635b-e053-97cd-62f3e9e8acac",
        "execution": {
          "iopub.status.busy": "2024-10-04T19:28:21.909515Z",
          "iopub.execute_input": "2024-10-04T19:28:21.909881Z",
          "iopub.status.idle": "2024-10-04T19:28:21.919919Z",
          "shell.execute_reply.started": "2024-10-04T19:28:21.909833Z",
          "shell.execute_reply": "2024-10-04T19:28:21.918553Z"
        },
        "trusted": true,
        "id": "bINqZeKDbpso",
        "outputId": "8f324f68-8488-4ceb-ee11-5c75ea469056"
      },
      "execution_count": null,
      "outputs": [
        {
          "execution_count": 3,
          "output_type": "execute_result",
          "data": {
            "text/plain": "(10886, 12)"
          },
          "metadata": {}
        }
      ]
    },
    {
      "cell_type": "markdown",
      "source": [
        "#### **Sample Of First Few Rows**"
      ],
      "metadata": {
        "_cell_guid": "d390d70a-24ba-1e0a-33af-f4bf58862f93",
        "id": "wD1HsYi5bpsq"
      }
    },
    {
      "cell_type": "code",
      "source": [
        "dailyData.head(2)"
      ],
      "metadata": {
        "_cell_guid": "664d34ff-4580-aeb1-18ea-6dca2b5ae078",
        "execution": {
          "iopub.status.busy": "2024-10-04T19:28:21.923074Z",
          "iopub.execute_input": "2024-10-04T19:28:21.923561Z",
          "iopub.status.idle": "2024-10-04T19:28:21.951715Z",
          "shell.execute_reply.started": "2024-10-04T19:28:21.923503Z",
          "shell.execute_reply": "2024-10-04T19:28:21.95058Z"
        },
        "trusted": true,
        "id": "Z4JnIZOlbpsq",
        "outputId": "ba69cb4a-7320-48ce-8381-832cddd2f239"
      },
      "execution_count": null,
      "outputs": [
        {
          "execution_count": 4,
          "output_type": "execute_result",
          "data": {
            "text/plain": "              datetime  season  holiday  workingday  weather  temp   atemp  \\\n0  2011-01-01 00:00:00       1        0           0        1  9.84  14.395   \n1  2011-01-01 01:00:00       1        0           0        1  9.02  13.635   \n\n   humidity  windspeed  casual  registered  count  \n0        81        0.0       3          13     16  \n1        80        0.0       8          32     40  ",
            "text/html": "<div>\n<style scoped>\n    .dataframe tbody tr th:only-of-type {\n        vertical-align: middle;\n    }\n\n    .dataframe tbody tr th {\n        vertical-align: top;\n    }\n\n    .dataframe thead th {\n        text-align: right;\n    }\n</style>\n<table border=\"1\" class=\"dataframe\">\n  <thead>\n    <tr style=\"text-align: right;\">\n      <th></th>\n      <th>datetime</th>\n      <th>season</th>\n      <th>holiday</th>\n      <th>workingday</th>\n      <th>weather</th>\n      <th>temp</th>\n      <th>atemp</th>\n      <th>humidity</th>\n      <th>windspeed</th>\n      <th>casual</th>\n      <th>registered</th>\n      <th>count</th>\n    </tr>\n  </thead>\n  <tbody>\n    <tr>\n      <th>0</th>\n      <td>2011-01-01 00:00:00</td>\n      <td>1</td>\n      <td>0</td>\n      <td>0</td>\n      <td>1</td>\n      <td>9.84</td>\n      <td>14.395</td>\n      <td>81</td>\n      <td>0.0</td>\n      <td>3</td>\n      <td>13</td>\n      <td>16</td>\n    </tr>\n    <tr>\n      <th>1</th>\n      <td>2011-01-01 01:00:00</td>\n      <td>1</td>\n      <td>0</td>\n      <td>0</td>\n      <td>1</td>\n      <td>9.02</td>\n      <td>13.635</td>\n      <td>80</td>\n      <td>0.0</td>\n      <td>8</td>\n      <td>32</td>\n      <td>40</td>\n    </tr>\n  </tbody>\n</table>\n</div>"
          },
          "metadata": {}
        }
      ]
    },
    {
      "cell_type": "markdown",
      "source": [
        "#### **Variables Data Type**"
      ],
      "metadata": {
        "_cell_guid": "8c553d3a-0363-91e3-49b4-1a74a7b464c9",
        "id": "vL4bsMIIbpsr"
      }
    },
    {
      "cell_type": "code",
      "source": [
        "dailyData.dtypes"
      ],
      "metadata": {
        "_cell_guid": "6ee04436-80f8-ba7c-242e-ec78a9df5fdc",
        "execution": {
          "iopub.status.busy": "2024-10-04T19:28:21.953333Z",
          "iopub.execute_input": "2024-10-04T19:28:21.953933Z",
          "iopub.status.idle": "2024-10-04T19:28:21.96607Z",
          "shell.execute_reply.started": "2024-10-04T19:28:21.953891Z",
          "shell.execute_reply": "2024-10-04T19:28:21.964564Z"
        },
        "trusted": true,
        "id": "gZ3tD9TNbpsr",
        "outputId": "2eb93371-6399-4d14-8aeb-011209841768"
      },
      "execution_count": null,
      "outputs": [
        {
          "execution_count": 5,
          "output_type": "execute_result",
          "data": {
            "text/plain": "datetime       object\nseason          int64\nholiday         int64\nworkingday      int64\nweather         int64\ntemp          float64\natemp         float64\nhumidity        int64\nwindspeed     float64\ncasual          int64\nregistered      int64\ncount           int64\ndtype: object"
          },
          "metadata": {}
        }
      ]
    },
    {
      "cell_type": "markdown",
      "source": [
        "## Feature Engineering"
      ],
      "metadata": {
        "_cell_guid": "25e226ba-1c12-3fd3-08d8-fe69f9748b73",
        "id": "JUrzOdizbpss"
      }
    },
    {
      "cell_type": "markdown",
      "source": [
        "As we see from the above results, the columns \"season\",\"holiday\",\"workingday\" and \"weather\" should be of \"categorical\" data type.But the current data type is \"int\" for those columns. Let us transform the dataset in the following ways so that we can get started up with our EDA\n",
        "\n",
        " - Create new columns \"date,\"hour\",\"weekDay\",\"month\" from \"datetime\"\n",
        "   column.\n",
        " - Coerce the datatype of \"season\",\"holiday\",\"workingday\" and weather to category.\n",
        " - Drop the datetime column as we already extracted useful features from it."
      ],
      "metadata": {
        "_cell_guid": "0f6959ba-f75c-a9af-26b7-78fc29f1d1fd",
        "id": "t9OIqLMKbpss"
      }
    },
    {
      "cell_type": "markdown",
      "source": [
        "#### **Creating New Columns From \"Datetime\" Column**"
      ],
      "metadata": {
        "_cell_guid": "81405fed-cc08-8ec4-3b0d-b65cc0f0807a",
        "id": "av7ABNgAbpss"
      }
    },
    {
      "cell_type": "code",
      "source": [
        "dailyData[\"date\"] = dailyData.datetime.apply(lambda x : x.split()[0])\n",
        "dailyData[\"hour\"] = dailyData.datetime.apply(lambda x : x.split()[1].split(\":\")[0])\n",
        "dailyData[\"weekday\"] = dailyData.date.apply(lambda dateString : calendar.day_name[datetime.strptime(dateString,\"%Y-%m-%d\").weekday()])\n",
        "dailyData[\"month\"] = dailyData.date.apply(lambda dateString : calendar.month_name[datetime.strptime(dateString,\"%Y-%m-%d\").month])\n",
        "dailyData[\"season\"] = dailyData.season.map({1: \"Spring\", 2 : \"Summer\", 3 : \"Fall\", 4 :\"Winter\" })\n",
        "dailyData[\"weather\"] = dailyData.weather.map({1: \" Clear + Few clouds + Partly cloudy + Partly cloudy\",\\\n",
        "                                        2 : \" Mist + Cloudy, Mist + Broken clouds, Mist + Few clouds, Mist \", \\\n",
        "                                        3 : \" Light Snow, Light Rain + Thunderstorm + Scattered clouds, Light Rain + Scattered clouds\", \\\n",
        "                                        4 :\" Heavy Rain + Ice Pallets + Thunderstorm + Mist, Snow + Fog \" })"
      ],
      "metadata": {
        "_cell_guid": "18f7c3fc-ffdf-4bc6-1d4c-c455fb4e0141",
        "execution": {
          "iopub.status.busy": "2024-10-04T19:28:21.967561Z",
          "iopub.execute_input": "2024-10-04T19:28:21.967991Z",
          "iopub.status.idle": "2024-10-04T19:28:22.431821Z",
          "shell.execute_reply.started": "2024-10-04T19:28:21.96795Z",
          "shell.execute_reply": "2024-10-04T19:28:22.430559Z"
        },
        "trusted": true,
        "id": "KO3de6mnbpst"
      },
      "execution_count": null,
      "outputs": []
    },
    {
      "cell_type": "markdown",
      "source": [
        "#### **Coercing To Category Type**"
      ],
      "metadata": {
        "_cell_guid": "4a88cd5f-db43-ede4-e666-6bd32ef4a248",
        "id": "VF5cd5njbpst"
      }
    },
    {
      "cell_type": "code",
      "source": [
        "categoryVariableList = [\"hour\",\"weekday\",\"month\",\"season\",\"weather\",\"holiday\",\"workingday\"]\n",
        "for var in categoryVariableList:\n",
        "    dailyData[var] = dailyData[var].astype(\"category\")"
      ],
      "metadata": {
        "_cell_guid": "51e63a0b-ab7d-9768-ee58-95d623256828",
        "execution": {
          "iopub.status.busy": "2024-10-04T19:28:22.433334Z",
          "iopub.execute_input": "2024-10-04T19:28:22.433727Z",
          "iopub.status.idle": "2024-10-04T19:28:22.457295Z",
          "shell.execute_reply.started": "2024-10-04T19:28:22.433685Z",
          "shell.execute_reply": "2024-10-04T19:28:22.455915Z"
        },
        "trusted": true,
        "id": "1CB2orJrbpsu"
      },
      "execution_count": null,
      "outputs": []
    },
    {
      "cell_type": "markdown",
      "source": [
        "#### **Dropping Unncessary Columns**"
      ],
      "metadata": {
        "_cell_guid": "a2f8b5fc-cc68-878d-0534-d706f6ff9aa8",
        "id": "YSYt7Wtbbpsu"
      }
    },
    {
      "cell_type": "code",
      "source": [
        "dailyData  = dailyData.drop([\"datetime\"],axis=1)"
      ],
      "metadata": {
        "_cell_guid": "7ddc906c-be9f-4ec4-44be-d97e3153af3d",
        "execution": {
          "iopub.status.busy": "2024-10-04T19:28:22.459069Z",
          "iopub.execute_input": "2024-10-04T19:28:22.459784Z",
          "iopub.status.idle": "2024-10-04T19:28:22.469715Z",
          "shell.execute_reply.started": "2024-10-04T19:28:22.459721Z",
          "shell.execute_reply": "2024-10-04T19:28:22.468034Z"
        },
        "trusted": true,
        "id": "F2-6KBL8bpsu"
      },
      "execution_count": null,
      "outputs": []
    },
    {
      "cell_type": "markdown",
      "source": [
        "#### **Lets Start With Very Simple Visualization Of Variables DataType Count**"
      ],
      "metadata": {
        "_cell_guid": "bf019e67-ab7a-44b8-2a93-1dc95fbc4875",
        "id": "PRy14pZybpsv"
      }
    },
    {
      "cell_type": "code",
      "source": [
        "dataTypeDf = pd.DataFrame(dailyData.dtypes.value_counts()).reset_index().rename(columns={\"index\":\"variableType\",0:\"count\"})\n",
        "fig,ax = plt.subplots()\n",
        "fig.set_size_inches(12,5)\n",
        "sn.barplot(data=dataTypeDf,x=\"variableType\",y=\"count\",ax=ax)\n",
        "ax.set(xlabel='variableTypeariable Type', ylabel='Count',title=\"Variables DataType Count\")"
      ],
      "metadata": {
        "_cell_guid": "acaa4f7b-4bdb-6465-6ba8-16ed9534653d",
        "execution": {
          "iopub.status.busy": "2024-10-04T19:28:22.471155Z",
          "iopub.execute_input": "2024-10-04T19:28:22.471626Z",
          "iopub.status.idle": "2024-10-04T19:28:25.230014Z",
          "shell.execute_reply.started": "2024-10-04T19:28:22.471574Z",
          "shell.execute_reply": "2024-10-04T19:28:25.224654Z"
        },
        "trusted": true,
        "id": "hskuLCKebpsv",
        "outputId": "9fc0eb14-55fa-4c7b-829d-e937cecb34d1"
      },
      "execution_count": null,
      "outputs": [
        {
          "traceback": [
            "\u001b[0;31m---------------------------------------------------------------------------\u001b[0m",
            "\u001b[0;31mTypeError\u001b[0m                                 Traceback (most recent call last)",
            "File \u001b[0;32m/opt/conda/lib/python3.10/site-packages/pandas/core/algorithms.py:1516\u001b[0m, in \u001b[0;36msafe_sort\u001b[0;34m(values, codes, use_na_sentinel, assume_unique, verify)\u001b[0m\n\u001b[1;32m   1515\u001b[0m \u001b[38;5;28;01mtry\u001b[39;00m:\n\u001b[0;32m-> 1516\u001b[0m     sorter \u001b[38;5;241m=\u001b[39m \u001b[43mvalues\u001b[49m\u001b[38;5;241;43m.\u001b[39;49m\u001b[43margsort\u001b[49m\u001b[43m(\u001b[49m\u001b[43m)\u001b[49m\n\u001b[1;32m   1517\u001b[0m     ordered \u001b[38;5;241m=\u001b[39m values\u001b[38;5;241m.\u001b[39mtake(sorter)\n",
            "\u001b[0;31mTypeError\u001b[0m: '<' not supported between instances of 'CategoricalDtype' and 'numpy.dtypes.Float64DType'",
            "\nDuring handling of the above exception, another exception occurred:\n",
            "\u001b[0;31mTypeError\u001b[0m                                 Traceback (most recent call last)",
            "File \u001b[0;32m/opt/conda/lib/python3.10/site-packages/numpy/core/fromnumeric.py:59\u001b[0m, in \u001b[0;36m_wrapfunc\u001b[0;34m(obj, method, *args, **kwds)\u001b[0m\n\u001b[1;32m     58\u001b[0m \u001b[38;5;28;01mtry\u001b[39;00m:\n\u001b[0;32m---> 59\u001b[0m     \u001b[38;5;28;01mreturn\u001b[39;00m \u001b[43mbound\u001b[49m\u001b[43m(\u001b[49m\u001b[38;5;241;43m*\u001b[39;49m\u001b[43margs\u001b[49m\u001b[43m,\u001b[49m\u001b[43m \u001b[49m\u001b[38;5;241;43m*\u001b[39;49m\u001b[38;5;241;43m*\u001b[39;49m\u001b[43mkwds\u001b[49m\u001b[43m)\u001b[49m\n\u001b[1;32m     60\u001b[0m \u001b[38;5;28;01mexcept\u001b[39;00m \u001b[38;5;167;01mTypeError\u001b[39;00m:\n\u001b[1;32m     61\u001b[0m     \u001b[38;5;66;03m# A TypeError occurs if the object does have such a method in its\u001b[39;00m\n\u001b[1;32m     62\u001b[0m     \u001b[38;5;66;03m# class, but its signature is not identical to that of NumPy's. This\u001b[39;00m\n\u001b[0;32m   (...)\u001b[0m\n\u001b[1;32m     66\u001b[0m     \u001b[38;5;66;03m# Call _wrapit from within the except clause to ensure a potential\u001b[39;00m\n\u001b[1;32m     67\u001b[0m     \u001b[38;5;66;03m# exception has a traceback chain.\u001b[39;00m\n",
            "\u001b[0;31mTypeError\u001b[0m: '<' not supported between instances of 'CategoricalDtype' and 'numpy.dtypes.Float64DType'",
            "\nDuring handling of the above exception, another exception occurred:\n",
            "\u001b[0;31mTypeError\u001b[0m                                 Traceback (most recent call last)",
            "Cell \u001b[0;32mIn[9], line 4\u001b[0m\n\u001b[1;32m      2\u001b[0m fig,ax \u001b[38;5;241m=\u001b[39m plt\u001b[38;5;241m.\u001b[39msubplots()\n\u001b[1;32m      3\u001b[0m fig\u001b[38;5;241m.\u001b[39mset_size_inches(\u001b[38;5;241m12\u001b[39m,\u001b[38;5;241m5\u001b[39m)\n\u001b[0;32m----> 4\u001b[0m \u001b[43msn\u001b[49m\u001b[38;5;241;43m.\u001b[39;49m\u001b[43mbarplot\u001b[49m\u001b[43m(\u001b[49m\u001b[43mdata\u001b[49m\u001b[38;5;241;43m=\u001b[39;49m\u001b[43mdataTypeDf\u001b[49m\u001b[43m,\u001b[49m\u001b[43mx\u001b[49m\u001b[38;5;241;43m=\u001b[39;49m\u001b[38;5;124;43m\"\u001b[39;49m\u001b[38;5;124;43mvariableType\u001b[39;49m\u001b[38;5;124;43m\"\u001b[39;49m\u001b[43m,\u001b[49m\u001b[43my\u001b[49m\u001b[38;5;241;43m=\u001b[39;49m\u001b[38;5;124;43m\"\u001b[39;49m\u001b[38;5;124;43mcount\u001b[39;49m\u001b[38;5;124;43m\"\u001b[39;49m\u001b[43m,\u001b[49m\u001b[43max\u001b[49m\u001b[38;5;241;43m=\u001b[39;49m\u001b[43max\u001b[49m\u001b[43m)\u001b[49m\n\u001b[1;32m      5\u001b[0m ax\u001b[38;5;241m.\u001b[39mset(xlabel\u001b[38;5;241m=\u001b[39m\u001b[38;5;124m'\u001b[39m\u001b[38;5;124mvariableTypeariable Type\u001b[39m\u001b[38;5;124m'\u001b[39m, ylabel\u001b[38;5;241m=\u001b[39m\u001b[38;5;124m'\u001b[39m\u001b[38;5;124mCount\u001b[39m\u001b[38;5;124m'\u001b[39m,title\u001b[38;5;241m=\u001b[39m\u001b[38;5;124m\"\u001b[39m\u001b[38;5;124mVariables DataType Count\u001b[39m\u001b[38;5;124m\"\u001b[39m)\n",
            "File \u001b[0;32m/opt/conda/lib/python3.10/site-packages/seaborn/categorical.py:2755\u001b[0m, in \u001b[0;36mbarplot\u001b[0;34m(data, x, y, hue, order, hue_order, estimator, errorbar, n_boot, units, seed, orient, color, palette, saturation, width, errcolor, errwidth, capsize, dodge, ci, ax, **kwargs)\u001b[0m\n\u001b[1;32m   2752\u001b[0m \u001b[38;5;28;01mif\u001b[39;00m estimator \u001b[38;5;129;01mis\u001b[39;00m \u001b[38;5;28mlen\u001b[39m:\n\u001b[1;32m   2753\u001b[0m     estimator \u001b[38;5;241m=\u001b[39m \u001b[38;5;124m\"\u001b[39m\u001b[38;5;124msize\u001b[39m\u001b[38;5;124m\"\u001b[39m\n\u001b[0;32m-> 2755\u001b[0m plotter \u001b[38;5;241m=\u001b[39m \u001b[43m_BarPlotter\u001b[49m\u001b[43m(\u001b[49m\u001b[43mx\u001b[49m\u001b[43m,\u001b[49m\u001b[43m \u001b[49m\u001b[43my\u001b[49m\u001b[43m,\u001b[49m\u001b[43m \u001b[49m\u001b[43mhue\u001b[49m\u001b[43m,\u001b[49m\u001b[43m \u001b[49m\u001b[43mdata\u001b[49m\u001b[43m,\u001b[49m\u001b[43m \u001b[49m\u001b[43morder\u001b[49m\u001b[43m,\u001b[49m\u001b[43m \u001b[49m\u001b[43mhue_order\u001b[49m\u001b[43m,\u001b[49m\n\u001b[1;32m   2756\u001b[0m \u001b[43m                      \u001b[49m\u001b[43mestimator\u001b[49m\u001b[43m,\u001b[49m\u001b[43m \u001b[49m\u001b[43merrorbar\u001b[49m\u001b[43m,\u001b[49m\u001b[43m \u001b[49m\u001b[43mn_boot\u001b[49m\u001b[43m,\u001b[49m\u001b[43m \u001b[49m\u001b[43munits\u001b[49m\u001b[43m,\u001b[49m\u001b[43m \u001b[49m\u001b[43mseed\u001b[49m\u001b[43m,\u001b[49m\n\u001b[1;32m   2757\u001b[0m \u001b[43m                      \u001b[49m\u001b[43morient\u001b[49m\u001b[43m,\u001b[49m\u001b[43m \u001b[49m\u001b[43mcolor\u001b[49m\u001b[43m,\u001b[49m\u001b[43m \u001b[49m\u001b[43mpalette\u001b[49m\u001b[43m,\u001b[49m\u001b[43m \u001b[49m\u001b[43msaturation\u001b[49m\u001b[43m,\u001b[49m\n\u001b[1;32m   2758\u001b[0m \u001b[43m                      \u001b[49m\u001b[43mwidth\u001b[49m\u001b[43m,\u001b[49m\u001b[43m \u001b[49m\u001b[43merrcolor\u001b[49m\u001b[43m,\u001b[49m\u001b[43m \u001b[49m\u001b[43merrwidth\u001b[49m\u001b[43m,\u001b[49m\u001b[43m \u001b[49m\u001b[43mcapsize\u001b[49m\u001b[43m,\u001b[49m\u001b[43m \u001b[49m\u001b[43mdodge\u001b[49m\u001b[43m)\u001b[49m\n\u001b[1;32m   2760\u001b[0m \u001b[38;5;28;01mif\u001b[39;00m ax \u001b[38;5;129;01mis\u001b[39;00m \u001b[38;5;28;01mNone\u001b[39;00m:\n\u001b[1;32m   2761\u001b[0m     ax \u001b[38;5;241m=\u001b[39m plt\u001b[38;5;241m.\u001b[39mgca()\n",
            "File \u001b[0;32m/opt/conda/lib/python3.10/site-packages/seaborn/categorical.py:1530\u001b[0m, in \u001b[0;36m_BarPlotter.__init__\u001b[0;34m(self, x, y, hue, data, order, hue_order, estimator, errorbar, n_boot, units, seed, orient, color, palette, saturation, width, errcolor, errwidth, capsize, dodge)\u001b[0m\n\u001b[1;32m   1525\u001b[0m \u001b[38;5;28;01mdef\u001b[39;00m \u001b[38;5;21m__init__\u001b[39m(\u001b[38;5;28mself\u001b[39m, x, y, hue, data, order, hue_order,\n\u001b[1;32m   1526\u001b[0m              estimator, errorbar, n_boot, units, seed,\n\u001b[1;32m   1527\u001b[0m              orient, color, palette, saturation, width,\n\u001b[1;32m   1528\u001b[0m              errcolor, errwidth, capsize, dodge):\n\u001b[1;32m   1529\u001b[0m \u001b[38;5;250m    \u001b[39m\u001b[38;5;124;03m\"\"\"Initialize the plotter.\"\"\"\u001b[39;00m\n\u001b[0;32m-> 1530\u001b[0m     \u001b[38;5;28;43mself\u001b[39;49m\u001b[38;5;241;43m.\u001b[39;49m\u001b[43mestablish_variables\u001b[49m\u001b[43m(\u001b[49m\u001b[43mx\u001b[49m\u001b[43m,\u001b[49m\u001b[43m \u001b[49m\u001b[43my\u001b[49m\u001b[43m,\u001b[49m\u001b[43m \u001b[49m\u001b[43mhue\u001b[49m\u001b[43m,\u001b[49m\u001b[43m \u001b[49m\u001b[43mdata\u001b[49m\u001b[43m,\u001b[49m\u001b[43m \u001b[49m\u001b[43morient\u001b[49m\u001b[43m,\u001b[49m\n\u001b[1;32m   1531\u001b[0m \u001b[43m                             \u001b[49m\u001b[43morder\u001b[49m\u001b[43m,\u001b[49m\u001b[43m \u001b[49m\u001b[43mhue_order\u001b[49m\u001b[43m,\u001b[49m\u001b[43m \u001b[49m\u001b[43munits\u001b[49m\u001b[43m)\u001b[49m\n\u001b[1;32m   1532\u001b[0m     \u001b[38;5;28mself\u001b[39m\u001b[38;5;241m.\u001b[39mestablish_colors(color, palette, saturation)\n\u001b[1;32m   1533\u001b[0m     \u001b[38;5;28mself\u001b[39m\u001b[38;5;241m.\u001b[39mestimate_statistic(estimator, errorbar, n_boot, seed)\n",
            "File \u001b[0;32m/opt/conda/lib/python3.10/site-packages/seaborn/categorical.py:594\u001b[0m, in \u001b[0;36m_CategoricalPlotter.establish_variables\u001b[0;34m(self, x, y, hue, data, orient, order, hue_order, units)\u001b[0m\n\u001b[1;32m    591\u001b[0m group_names \u001b[38;5;241m=\u001b[39m categorical_order(groups, order)\n\u001b[1;32m    593\u001b[0m \u001b[38;5;66;03m# Group the numeric data\u001b[39;00m\n\u001b[0;32m--> 594\u001b[0m plot_data, value_label \u001b[38;5;241m=\u001b[39m \u001b[38;5;28;43mself\u001b[39;49m\u001b[38;5;241;43m.\u001b[39;49m\u001b[43m_group_longform\u001b[49m\u001b[43m(\u001b[49m\u001b[43mvals\u001b[49m\u001b[43m,\u001b[49m\u001b[43m \u001b[49m\u001b[43mgroups\u001b[49m\u001b[43m,\u001b[49m\n\u001b[1;32m    595\u001b[0m \u001b[43m                                              \u001b[49m\u001b[43mgroup_names\u001b[49m\u001b[43m)\u001b[49m\n\u001b[1;32m    597\u001b[0m \u001b[38;5;66;03m# Now handle the hue levels for nested ordering\u001b[39;00m\n\u001b[1;32m    598\u001b[0m \u001b[38;5;28;01mif\u001b[39;00m hue \u001b[38;5;129;01mis\u001b[39;00m \u001b[38;5;28;01mNone\u001b[39;00m:\n",
            "File \u001b[0;32m/opt/conda/lib/python3.10/site-packages/seaborn/categorical.py:645\u001b[0m, in \u001b[0;36m_CategoricalPlotter._group_longform\u001b[0;34m(self, vals, grouper, order)\u001b[0m\n\u001b[1;32m    643\u001b[0m \u001b[38;5;28;01mfor\u001b[39;00m g \u001b[38;5;129;01min\u001b[39;00m order:\n\u001b[1;32m    644\u001b[0m     \u001b[38;5;28;01mtry\u001b[39;00m:\n\u001b[0;32m--> 645\u001b[0m         g_vals \u001b[38;5;241m=\u001b[39m \u001b[43mgrouped_vals\u001b[49m\u001b[38;5;241;43m.\u001b[39;49m\u001b[43mget_group\u001b[49m\u001b[43m(\u001b[49m\u001b[43mg\u001b[49m\u001b[43m)\u001b[49m\n\u001b[1;32m    646\u001b[0m     \u001b[38;5;28;01mexcept\u001b[39;00m \u001b[38;5;167;01mKeyError\u001b[39;00m:\n\u001b[1;32m    647\u001b[0m         g_vals \u001b[38;5;241m=\u001b[39m np\u001b[38;5;241m.\u001b[39marray([])\n",
            "File \u001b[0;32m/opt/conda/lib/python3.10/site-packages/pandas/core/groupby/groupby.py:1112\u001b[0m, in \u001b[0;36mBaseGroupBy.get_group\u001b[0;34m(self, name, obj)\u001b[0m\n\u001b[1;32m   1102\u001b[0m     \u001b[38;5;28;01melif\u001b[39;00m \u001b[38;5;129;01mnot\u001b[39;00m \u001b[38;5;28misinstance\u001b[39m(name, \u001b[38;5;28mtuple\u001b[39m):\n\u001b[1;32m   1103\u001b[0m         warnings\u001b[38;5;241m.\u001b[39mwarn(\n\u001b[1;32m   1104\u001b[0m             \u001b[38;5;124m\"\u001b[39m\u001b[38;5;124mWhen grouping with a length-1 list-like, \u001b[39m\u001b[38;5;124m\"\u001b[39m\n\u001b[1;32m   1105\u001b[0m             \u001b[38;5;124m\"\u001b[39m\u001b[38;5;124myou will need to pass a length-1 tuple to get_group in a future \u001b[39m\u001b[38;5;124m\"\u001b[39m\n\u001b[0;32m   (...)\u001b[0m\n\u001b[1;32m   1109\u001b[0m             stacklevel\u001b[38;5;241m=\u001b[39mfind_stack_level(),\n\u001b[1;32m   1110\u001b[0m         )\n\u001b[0;32m-> 1112\u001b[0m inds \u001b[38;5;241m=\u001b[39m \u001b[38;5;28;43mself\u001b[39;49m\u001b[38;5;241;43m.\u001b[39;49m\u001b[43m_get_index\u001b[49m\u001b[43m(\u001b[49m\u001b[43mname\u001b[49m\u001b[43m)\u001b[49m\n\u001b[1;32m   1113\u001b[0m \u001b[38;5;28;01mif\u001b[39;00m \u001b[38;5;129;01mnot\u001b[39;00m \u001b[38;5;28mlen\u001b[39m(inds):\n\u001b[1;32m   1114\u001b[0m     \u001b[38;5;28;01mraise\u001b[39;00m \u001b[38;5;167;01mKeyError\u001b[39;00m(name)\n",
            "File \u001b[0;32m/opt/conda/lib/python3.10/site-packages/pandas/core/groupby/groupby.py:964\u001b[0m, in \u001b[0;36mBaseGroupBy._get_index\u001b[0;34m(self, name)\u001b[0m\n\u001b[1;32m    959\u001b[0m \u001b[38;5;129m@final\u001b[39m\n\u001b[1;32m    960\u001b[0m \u001b[38;5;28;01mdef\u001b[39;00m \u001b[38;5;21m_get_index\u001b[39m(\u001b[38;5;28mself\u001b[39m, name):\n\u001b[1;32m    961\u001b[0m \u001b[38;5;250m    \u001b[39m\u001b[38;5;124;03m\"\"\"\u001b[39;00m\n\u001b[1;32m    962\u001b[0m \u001b[38;5;124;03m    Safe get index, translate keys for datelike to underlying repr.\u001b[39;00m\n\u001b[1;32m    963\u001b[0m \u001b[38;5;124;03m    \"\"\"\u001b[39;00m\n\u001b[0;32m--> 964\u001b[0m     \u001b[38;5;28;01mreturn\u001b[39;00m \u001b[38;5;28;43mself\u001b[39;49m\u001b[38;5;241;43m.\u001b[39;49m\u001b[43m_get_indices\u001b[49m\u001b[43m(\u001b[49m\u001b[43m[\u001b[49m\u001b[43mname\u001b[49m\u001b[43m]\u001b[49m\u001b[43m)\u001b[49m[\u001b[38;5;241m0\u001b[39m]\n",
            "File \u001b[0;32m/opt/conda/lib/python3.10/site-packages/pandas/core/groupby/groupby.py:928\u001b[0m, in \u001b[0;36mBaseGroupBy._get_indices\u001b[0;34m(self, names)\u001b[0m\n\u001b[1;32m    925\u001b[0m \u001b[38;5;28;01mif\u001b[39;00m \u001b[38;5;28mlen\u001b[39m(names) \u001b[38;5;241m==\u001b[39m \u001b[38;5;241m0\u001b[39m:\n\u001b[1;32m    926\u001b[0m     \u001b[38;5;28;01mreturn\u001b[39;00m []\n\u001b[0;32m--> 928\u001b[0m \u001b[38;5;28;01mif\u001b[39;00m \u001b[38;5;28mlen\u001b[39m(\u001b[38;5;28;43mself\u001b[39;49m\u001b[38;5;241;43m.\u001b[39;49m\u001b[43mindices\u001b[49m) \u001b[38;5;241m>\u001b[39m \u001b[38;5;241m0\u001b[39m:\n\u001b[1;32m    929\u001b[0m     index_sample \u001b[38;5;241m=\u001b[39m \u001b[38;5;28mnext\u001b[39m(\u001b[38;5;28miter\u001b[39m(\u001b[38;5;28mself\u001b[39m\u001b[38;5;241m.\u001b[39mindices))\n\u001b[1;32m    930\u001b[0m \u001b[38;5;28;01melse\u001b[39;00m:\n",
            "File \u001b[0;32m/opt/conda/lib/python3.10/site-packages/pandas/core/groupby/groupby.py:906\u001b[0m, in \u001b[0;36mBaseGroupBy.indices\u001b[0;34m(self)\u001b[0m\n\u001b[1;32m    858\u001b[0m \u001b[38;5;129m@final\u001b[39m\n\u001b[1;32m    859\u001b[0m \u001b[38;5;129m@property\u001b[39m\n\u001b[1;32m    860\u001b[0m \u001b[38;5;28;01mdef\u001b[39;00m \u001b[38;5;21mindices\u001b[39m(\u001b[38;5;28mself\u001b[39m) \u001b[38;5;241m-\u001b[39m\u001b[38;5;241m>\u001b[39m \u001b[38;5;28mdict\u001b[39m[Hashable, npt\u001b[38;5;241m.\u001b[39mNDArray[np\u001b[38;5;241m.\u001b[39mintp]]:\n\u001b[1;32m    861\u001b[0m \u001b[38;5;250m    \u001b[39m\u001b[38;5;124;03m\"\"\"\u001b[39;00m\n\u001b[1;32m    862\u001b[0m \u001b[38;5;124;03m    Dict {group name -> group indices}.\u001b[39;00m\n\u001b[1;32m    863\u001b[0m \n\u001b[0;32m   (...)\u001b[0m\n\u001b[1;32m    904\u001b[0m \u001b[38;5;124;03m    Timestamp('2023-02-01 00:00:00'): [2, 3]})\u001b[39;00m\n\u001b[1;32m    905\u001b[0m \u001b[38;5;124;03m    \"\"\"\u001b[39;00m\n\u001b[0;32m--> 906\u001b[0m     \u001b[38;5;28;01mreturn\u001b[39;00m \u001b[38;5;28;43mself\u001b[39;49m\u001b[38;5;241;43m.\u001b[39;49m\u001b[43m_grouper\u001b[49m\u001b[38;5;241;43m.\u001b[39;49m\u001b[43mindices\u001b[49m\n",
            "File \u001b[0;32mproperties.pyx:36\u001b[0m, in \u001b[0;36mpandas._libs.properties.CachedProperty.__get__\u001b[0;34m()\u001b[0m\n",
            "File \u001b[0;32m/opt/conda/lib/python3.10/site-packages/pandas/core/groupby/ops.py:653\u001b[0m, in \u001b[0;36mBaseGrouper.indices\u001b[0;34m(self)\u001b[0m\n\u001b[1;32m    650\u001b[0m \u001b[38;5;129m@cache_readonly\u001b[39m\n\u001b[1;32m    651\u001b[0m \u001b[38;5;28;01mdef\u001b[39;00m \u001b[38;5;21mindices\u001b[39m(\u001b[38;5;28mself\u001b[39m) \u001b[38;5;241m-\u001b[39m\u001b[38;5;241m>\u001b[39m \u001b[38;5;28mdict\u001b[39m[Hashable, npt\u001b[38;5;241m.\u001b[39mNDArray[np\u001b[38;5;241m.\u001b[39mintp]]:\n\u001b[1;32m    652\u001b[0m \u001b[38;5;250m    \u001b[39m\u001b[38;5;124;03m\"\"\"dict {group name -> group indices}\"\"\"\u001b[39;00m\n\u001b[0;32m--> 653\u001b[0m     \u001b[38;5;28;01mif\u001b[39;00m \u001b[38;5;28mlen\u001b[39m(\u001b[38;5;28mself\u001b[39m\u001b[38;5;241m.\u001b[39mgroupings) \u001b[38;5;241m==\u001b[39m \u001b[38;5;241m1\u001b[39m \u001b[38;5;129;01mand\u001b[39;00m \u001b[38;5;28misinstance\u001b[39m(\u001b[38;5;28;43mself\u001b[39;49m\u001b[38;5;241;43m.\u001b[39;49m\u001b[43mresult_index\u001b[49m, CategoricalIndex):\n\u001b[1;32m    654\u001b[0m         \u001b[38;5;66;03m# This shows unused categories in indices GH#38642\u001b[39;00m\n\u001b[1;32m    655\u001b[0m         \u001b[38;5;28;01mreturn\u001b[39;00m \u001b[38;5;28mself\u001b[39m\u001b[38;5;241m.\u001b[39mgroupings[\u001b[38;5;241m0\u001b[39m]\u001b[38;5;241m.\u001b[39mindices\n\u001b[1;32m    656\u001b[0m     codes_list \u001b[38;5;241m=\u001b[39m [ping\u001b[38;5;241m.\u001b[39mcodes \u001b[38;5;28;01mfor\u001b[39;00m ping \u001b[38;5;129;01min\u001b[39;00m \u001b[38;5;28mself\u001b[39m\u001b[38;5;241m.\u001b[39mgroupings]\n",
            "File \u001b[0;32mproperties.pyx:36\u001b[0m, in \u001b[0;36mpandas._libs.properties.CachedProperty.__get__\u001b[0;34m()\u001b[0m\n",
            "File \u001b[0;32m/opt/conda/lib/python3.10/site-packages/pandas/core/groupby/ops.py:785\u001b[0m, in \u001b[0;36mBaseGrouper.result_index\u001b[0;34m(self)\u001b[0m\n\u001b[1;32m    782\u001b[0m \u001b[38;5;129m@cache_readonly\u001b[39m\n\u001b[1;32m    783\u001b[0m \u001b[38;5;28;01mdef\u001b[39;00m \u001b[38;5;21mresult_index\u001b[39m(\u001b[38;5;28mself\u001b[39m) \u001b[38;5;241m-\u001b[39m\u001b[38;5;241m>\u001b[39m Index:\n\u001b[1;32m    784\u001b[0m     \u001b[38;5;28;01mif\u001b[39;00m \u001b[38;5;28mlen\u001b[39m(\u001b[38;5;28mself\u001b[39m\u001b[38;5;241m.\u001b[39mgroupings) \u001b[38;5;241m==\u001b[39m \u001b[38;5;241m1\u001b[39m:\n\u001b[0;32m--> 785\u001b[0m         \u001b[38;5;28;01mreturn\u001b[39;00m \u001b[38;5;28;43mself\u001b[39;49m\u001b[38;5;241;43m.\u001b[39;49m\u001b[43mgroupings\u001b[49m\u001b[43m[\u001b[49m\u001b[38;5;241;43m0\u001b[39;49m\u001b[43m]\u001b[49m\u001b[38;5;241;43m.\u001b[39;49m\u001b[43m_result_index\u001b[49m\u001b[38;5;241m.\u001b[39mrename(\u001b[38;5;28mself\u001b[39m\u001b[38;5;241m.\u001b[39mnames[\u001b[38;5;241m0\u001b[39m])\n\u001b[1;32m    787\u001b[0m     codes \u001b[38;5;241m=\u001b[39m \u001b[38;5;28mself\u001b[39m\u001b[38;5;241m.\u001b[39mreconstructed_codes\n\u001b[1;32m    788\u001b[0m     levels \u001b[38;5;241m=\u001b[39m [ping\u001b[38;5;241m.\u001b[39m_result_index \u001b[38;5;28;01mfor\u001b[39;00m ping \u001b[38;5;129;01min\u001b[39;00m \u001b[38;5;28mself\u001b[39m\u001b[38;5;241m.\u001b[39mgroupings]\n",
            "File \u001b[0;32mproperties.pyx:36\u001b[0m, in \u001b[0;36mpandas._libs.properties.CachedProperty.__get__\u001b[0;34m()\u001b[0m\n",
            "File \u001b[0;32m/opt/conda/lib/python3.10/site-packages/pandas/core/groupby/grouper.py:732\u001b[0m, in \u001b[0;36mGrouping._result_index\u001b[0;34m(self)\u001b[0m\n\u001b[1;32m    730\u001b[0m     \u001b[38;5;66;03m# set_categories is dynamically added\u001b[39;00m\n\u001b[1;32m    731\u001b[0m     \u001b[38;5;28;01mreturn\u001b[39;00m group_idx\u001b[38;5;241m.\u001b[39mset_categories(cats)  \u001b[38;5;66;03m# type: ignore[attr-defined]\u001b[39;00m\n\u001b[0;32m--> 732\u001b[0m \u001b[38;5;28;01mreturn\u001b[39;00m \u001b[38;5;28;43mself\u001b[39;49m\u001b[38;5;241;43m.\u001b[39;49m\u001b[43m_group_index\u001b[49m\n",
            "File \u001b[0;32mproperties.pyx:36\u001b[0m, in \u001b[0;36mpandas._libs.properties.CachedProperty.__get__\u001b[0;34m()\u001b[0m\n",
            "File \u001b[0;32m/opt/conda/lib/python3.10/site-packages/pandas/core/groupby/grouper.py:746\u001b[0m, in \u001b[0;36mGrouping._group_index\u001b[0;34m(self)\u001b[0m\n\u001b[1;32m    744\u001b[0m \u001b[38;5;129m@cache_readonly\u001b[39m\n\u001b[1;32m    745\u001b[0m \u001b[38;5;28;01mdef\u001b[39;00m \u001b[38;5;21m_group_index\u001b[39m(\u001b[38;5;28mself\u001b[39m) \u001b[38;5;241m-\u001b[39m\u001b[38;5;241m>\u001b[39m Index:\n\u001b[0;32m--> 746\u001b[0m     codes, uniques \u001b[38;5;241m=\u001b[39m \u001b[38;5;28;43mself\u001b[39;49m\u001b[38;5;241;43m.\u001b[39;49m\u001b[43m_codes_and_uniques\u001b[49m\n\u001b[1;32m    747\u001b[0m     \u001b[38;5;28;01mif\u001b[39;00m \u001b[38;5;129;01mnot\u001b[39;00m \u001b[38;5;28mself\u001b[39m\u001b[38;5;241m.\u001b[39m_dropna \u001b[38;5;129;01mand\u001b[39;00m \u001b[38;5;28mself\u001b[39m\u001b[38;5;241m.\u001b[39m_passed_categorical:\n\u001b[1;32m    748\u001b[0m         \u001b[38;5;28;01massert\u001b[39;00m \u001b[38;5;28misinstance\u001b[39m(uniques, Categorical)\n",
            "File \u001b[0;32mproperties.pyx:36\u001b[0m, in \u001b[0;36mpandas._libs.properties.CachedProperty.__get__\u001b[0;34m()\u001b[0m\n",
            "File \u001b[0;32m/opt/conda/lib/python3.10/site-packages/pandas/core/groupby/grouper.py:835\u001b[0m, in \u001b[0;36mGrouping._codes_and_uniques\u001b[0;34m(self)\u001b[0m\n\u001b[1;32m    830\u001b[0m     uniques \u001b[38;5;241m=\u001b[39m \u001b[38;5;28mself\u001b[39m\u001b[38;5;241m.\u001b[39m_uniques\n\u001b[1;32m    831\u001b[0m \u001b[38;5;28;01melse\u001b[39;00m:\n\u001b[1;32m    832\u001b[0m     \u001b[38;5;66;03m# GH35667, replace dropna=False with use_na_sentinel=False\u001b[39;00m\n\u001b[1;32m    833\u001b[0m     \u001b[38;5;66;03m# error: Incompatible types in assignment (expression has type \"Union[\u001b[39;00m\n\u001b[1;32m    834\u001b[0m     \u001b[38;5;66;03m# ndarray[Any, Any], Index]\", variable has type \"Categorical\")\u001b[39;00m\n\u001b[0;32m--> 835\u001b[0m     codes, uniques \u001b[38;5;241m=\u001b[39m \u001b[43malgorithms\u001b[49m\u001b[38;5;241;43m.\u001b[39;49m\u001b[43mfactorize\u001b[49m\u001b[43m(\u001b[49m\u001b[43m  \u001b[49m\u001b[38;5;66;43;03m# type: ignore[assignment]\u001b[39;49;00m\n\u001b[1;32m    836\u001b[0m \u001b[43m        \u001b[49m\u001b[38;5;28;43mself\u001b[39;49m\u001b[38;5;241;43m.\u001b[39;49m\u001b[43mgrouping_vector\u001b[49m\u001b[43m,\u001b[49m\u001b[43m \u001b[49m\u001b[43msort\u001b[49m\u001b[38;5;241;43m=\u001b[39;49m\u001b[38;5;28;43mself\u001b[39;49m\u001b[38;5;241;43m.\u001b[39;49m\u001b[43m_sort\u001b[49m\u001b[43m,\u001b[49m\u001b[43m \u001b[49m\u001b[43muse_na_sentinel\u001b[49m\u001b[38;5;241;43m=\u001b[39;49m\u001b[38;5;28;43mself\u001b[39;49m\u001b[38;5;241;43m.\u001b[39;49m\u001b[43m_dropna\u001b[49m\n\u001b[1;32m    837\u001b[0m \u001b[43m    \u001b[49m\u001b[43m)\u001b[49m\n\u001b[1;32m    838\u001b[0m \u001b[38;5;28;01mreturn\u001b[39;00m codes, uniques\n",
            "File \u001b[0;32m/opt/conda/lib/python3.10/site-packages/pandas/core/algorithms.py:802\u001b[0m, in \u001b[0;36mfactorize\u001b[0;34m(values, sort, use_na_sentinel, size_hint)\u001b[0m\n\u001b[1;32m    795\u001b[0m     codes, uniques \u001b[38;5;241m=\u001b[39m factorize_array(\n\u001b[1;32m    796\u001b[0m         values,\n\u001b[1;32m    797\u001b[0m         use_na_sentinel\u001b[38;5;241m=\u001b[39muse_na_sentinel,\n\u001b[1;32m    798\u001b[0m         size_hint\u001b[38;5;241m=\u001b[39msize_hint,\n\u001b[1;32m    799\u001b[0m     )\n\u001b[1;32m    801\u001b[0m \u001b[38;5;28;01mif\u001b[39;00m sort \u001b[38;5;129;01mand\u001b[39;00m \u001b[38;5;28mlen\u001b[39m(uniques) \u001b[38;5;241m>\u001b[39m \u001b[38;5;241m0\u001b[39m:\n\u001b[0;32m--> 802\u001b[0m     uniques, codes \u001b[38;5;241m=\u001b[39m \u001b[43msafe_sort\u001b[49m\u001b[43m(\u001b[49m\n\u001b[1;32m    803\u001b[0m \u001b[43m        \u001b[49m\u001b[43muniques\u001b[49m\u001b[43m,\u001b[49m\n\u001b[1;32m    804\u001b[0m \u001b[43m        \u001b[49m\u001b[43mcodes\u001b[49m\u001b[43m,\u001b[49m\n\u001b[1;32m    805\u001b[0m \u001b[43m        \u001b[49m\u001b[43muse_na_sentinel\u001b[49m\u001b[38;5;241;43m=\u001b[39;49m\u001b[43muse_na_sentinel\u001b[49m\u001b[43m,\u001b[49m\n\u001b[1;32m    806\u001b[0m \u001b[43m        \u001b[49m\u001b[43massume_unique\u001b[49m\u001b[38;5;241;43m=\u001b[39;49m\u001b[38;5;28;43;01mTrue\u001b[39;49;00m\u001b[43m,\u001b[49m\n\u001b[1;32m    807\u001b[0m \u001b[43m        \u001b[49m\u001b[43mverify\u001b[49m\u001b[38;5;241;43m=\u001b[39;49m\u001b[38;5;28;43;01mFalse\u001b[39;49;00m\u001b[43m,\u001b[49m\n\u001b[1;32m    808\u001b[0m \u001b[43m    \u001b[49m\u001b[43m)\u001b[49m\n\u001b[1;32m    810\u001b[0m uniques \u001b[38;5;241m=\u001b[39m _reconstruct_data(uniques, original\u001b[38;5;241m.\u001b[39mdtype, original)\n\u001b[1;32m    812\u001b[0m \u001b[38;5;28;01mreturn\u001b[39;00m codes, uniques\n",
            "File \u001b[0;32m/opt/conda/lib/python3.10/site-packages/pandas/core/algorithms.py:1528\u001b[0m, in \u001b[0;36msafe_sort\u001b[0;34m(values, codes, use_na_sentinel, assume_unique, verify)\u001b[0m\n\u001b[1;32m   1526\u001b[0m             ordered \u001b[38;5;241m=\u001b[39m _sort_tuples(values)  \u001b[38;5;66;03m# type: ignore[arg-type]\u001b[39;00m\n\u001b[1;32m   1527\u001b[0m         \u001b[38;5;28;01melse\u001b[39;00m:\n\u001b[0;32m-> 1528\u001b[0m             ordered \u001b[38;5;241m=\u001b[39m \u001b[43m_sort_mixed\u001b[49m\u001b[43m(\u001b[49m\u001b[43mvalues\u001b[49m\u001b[43m)\u001b[49m\n\u001b[1;32m   1530\u001b[0m \u001b[38;5;66;03m# codes:\u001b[39;00m\n\u001b[1;32m   1532\u001b[0m \u001b[38;5;28;01mif\u001b[39;00m codes \u001b[38;5;129;01mis\u001b[39;00m \u001b[38;5;28;01mNone\u001b[39;00m:\n",
            "File \u001b[0;32m/opt/conda/lib/python3.10/site-packages/pandas/core/algorithms.py:1588\u001b[0m, in \u001b[0;36m_sort_mixed\u001b[0;34m(values)\u001b[0m\n\u001b[1;32m   1586\u001b[0m num_pos \u001b[38;5;241m=\u001b[39m \u001b[38;5;241m~\u001b[39mstr_pos \u001b[38;5;241m&\u001b[39m \u001b[38;5;241m~\u001b[39mnull_pos\n\u001b[1;32m   1587\u001b[0m str_argsort \u001b[38;5;241m=\u001b[39m np\u001b[38;5;241m.\u001b[39margsort(values[str_pos])\n\u001b[0;32m-> 1588\u001b[0m num_argsort \u001b[38;5;241m=\u001b[39m \u001b[43mnp\u001b[49m\u001b[38;5;241;43m.\u001b[39;49m\u001b[43margsort\u001b[49m\u001b[43m(\u001b[49m\u001b[43mvalues\u001b[49m\u001b[43m[\u001b[49m\u001b[43mnum_pos\u001b[49m\u001b[43m]\u001b[49m\u001b[43m)\u001b[49m\n\u001b[1;32m   1589\u001b[0m \u001b[38;5;66;03m# convert boolean arrays to positional indices, then order by underlying values\u001b[39;00m\n\u001b[1;32m   1590\u001b[0m str_locs \u001b[38;5;241m=\u001b[39m str_pos\u001b[38;5;241m.\u001b[39mnonzero()[\u001b[38;5;241m0\u001b[39m]\u001b[38;5;241m.\u001b[39mtake(str_argsort)\n",
            "File \u001b[0;32m/opt/conda/lib/python3.10/site-packages/numpy/core/fromnumeric.py:1133\u001b[0m, in \u001b[0;36margsort\u001b[0;34m(a, axis, kind, order)\u001b[0m\n\u001b[1;32m   1025\u001b[0m \u001b[38;5;129m@array_function_dispatch\u001b[39m(_argsort_dispatcher)\n\u001b[1;32m   1026\u001b[0m \u001b[38;5;28;01mdef\u001b[39;00m \u001b[38;5;21margsort\u001b[39m(a, axis\u001b[38;5;241m=\u001b[39m\u001b[38;5;241m-\u001b[39m\u001b[38;5;241m1\u001b[39m, kind\u001b[38;5;241m=\u001b[39m\u001b[38;5;28;01mNone\u001b[39;00m, order\u001b[38;5;241m=\u001b[39m\u001b[38;5;28;01mNone\u001b[39;00m):\n\u001b[1;32m   1027\u001b[0m \u001b[38;5;250m    \u001b[39m\u001b[38;5;124;03m\"\"\"\u001b[39;00m\n\u001b[1;32m   1028\u001b[0m \u001b[38;5;124;03m    Returns the indices that would sort an array.\u001b[39;00m\n\u001b[1;32m   1029\u001b[0m \n\u001b[0;32m   (...)\u001b[0m\n\u001b[1;32m   1131\u001b[0m \n\u001b[1;32m   1132\u001b[0m \u001b[38;5;124;03m    \"\"\"\u001b[39;00m\n\u001b[0;32m-> 1133\u001b[0m     \u001b[38;5;28;01mreturn\u001b[39;00m \u001b[43m_wrapfunc\u001b[49m\u001b[43m(\u001b[49m\u001b[43ma\u001b[49m\u001b[43m,\u001b[49m\u001b[43m \u001b[49m\u001b[38;5;124;43m'\u001b[39;49m\u001b[38;5;124;43margsort\u001b[39;49m\u001b[38;5;124;43m'\u001b[39;49m\u001b[43m,\u001b[49m\u001b[43m \u001b[49m\u001b[43maxis\u001b[49m\u001b[38;5;241;43m=\u001b[39;49m\u001b[43maxis\u001b[49m\u001b[43m,\u001b[49m\u001b[43m \u001b[49m\u001b[43mkind\u001b[49m\u001b[38;5;241;43m=\u001b[39;49m\u001b[43mkind\u001b[49m\u001b[43m,\u001b[49m\u001b[43m \u001b[49m\u001b[43morder\u001b[49m\u001b[38;5;241;43m=\u001b[39;49m\u001b[43morder\u001b[49m\u001b[43m)\u001b[49m\n",
            "File \u001b[0;32m/opt/conda/lib/python3.10/site-packages/numpy/core/fromnumeric.py:68\u001b[0m, in \u001b[0;36m_wrapfunc\u001b[0;34m(obj, method, *args, **kwds)\u001b[0m\n\u001b[1;32m     59\u001b[0m     \u001b[38;5;28;01mreturn\u001b[39;00m bound(\u001b[38;5;241m*\u001b[39margs, \u001b[38;5;241m*\u001b[39m\u001b[38;5;241m*\u001b[39mkwds)\n\u001b[1;32m     60\u001b[0m \u001b[38;5;28;01mexcept\u001b[39;00m \u001b[38;5;167;01mTypeError\u001b[39;00m:\n\u001b[1;32m     61\u001b[0m     \u001b[38;5;66;03m# A TypeError occurs if the object does have such a method in its\u001b[39;00m\n\u001b[1;32m     62\u001b[0m     \u001b[38;5;66;03m# class, but its signature is not identical to that of NumPy's. This\u001b[39;00m\n\u001b[0;32m   (...)\u001b[0m\n\u001b[1;32m     66\u001b[0m     \u001b[38;5;66;03m# Call _wrapit from within the except clause to ensure a potential\u001b[39;00m\n\u001b[1;32m     67\u001b[0m     \u001b[38;5;66;03m# exception has a traceback chain.\u001b[39;00m\n\u001b[0;32m---> 68\u001b[0m     \u001b[38;5;28;01mreturn\u001b[39;00m \u001b[43m_wrapit\u001b[49m\u001b[43m(\u001b[49m\u001b[43mobj\u001b[49m\u001b[43m,\u001b[49m\u001b[43m \u001b[49m\u001b[43mmethod\u001b[49m\u001b[43m,\u001b[49m\u001b[43m \u001b[49m\u001b[38;5;241;43m*\u001b[39;49m\u001b[43margs\u001b[49m\u001b[43m,\u001b[49m\u001b[43m \u001b[49m\u001b[38;5;241;43m*\u001b[39;49m\u001b[38;5;241;43m*\u001b[39;49m\u001b[43mkwds\u001b[49m\u001b[43m)\u001b[49m\n",
            "File \u001b[0;32m/opt/conda/lib/python3.10/site-packages/numpy/core/fromnumeric.py:45\u001b[0m, in \u001b[0;36m_wrapit\u001b[0;34m(obj, method, *args, **kwds)\u001b[0m\n\u001b[1;32m     43\u001b[0m \u001b[38;5;28;01mexcept\u001b[39;00m \u001b[38;5;167;01mAttributeError\u001b[39;00m:\n\u001b[1;32m     44\u001b[0m     wrap \u001b[38;5;241m=\u001b[39m \u001b[38;5;28;01mNone\u001b[39;00m\n\u001b[0;32m---> 45\u001b[0m result \u001b[38;5;241m=\u001b[39m \u001b[38;5;28;43mgetattr\u001b[39;49m\u001b[43m(\u001b[49m\u001b[43masarray\u001b[49m\u001b[43m(\u001b[49m\u001b[43mobj\u001b[49m\u001b[43m)\u001b[49m\u001b[43m,\u001b[49m\u001b[43m \u001b[49m\u001b[43mmethod\u001b[49m\u001b[43m)\u001b[49m\u001b[43m(\u001b[49m\u001b[38;5;241;43m*\u001b[39;49m\u001b[43margs\u001b[49m\u001b[43m,\u001b[49m\u001b[43m \u001b[49m\u001b[38;5;241;43m*\u001b[39;49m\u001b[38;5;241;43m*\u001b[39;49m\u001b[43mkwds\u001b[49m\u001b[43m)\u001b[49m\n\u001b[1;32m     46\u001b[0m \u001b[38;5;28;01mif\u001b[39;00m wrap:\n\u001b[1;32m     47\u001b[0m     \u001b[38;5;28;01mif\u001b[39;00m \u001b[38;5;129;01mnot\u001b[39;00m \u001b[38;5;28misinstance\u001b[39m(result, mu\u001b[38;5;241m.\u001b[39mndarray):\n",
            "\u001b[0;31mTypeError\u001b[0m: '<' not supported between instances of 'CategoricalDtype' and 'numpy.dtypes.Float64DType'"
          ],
          "ename": "TypeError",
          "evalue": "'<' not supported between instances of 'CategoricalDtype' and 'numpy.dtypes.Float64DType'",
          "output_type": "error"
        },
        {
          "output_type": "display_data",
          "data": {
            "text/plain": "<Figure size 1200x500 with 1 Axes>",
            "image/png": "[encoded data removed]"
          },
          "metadata": {}
        }
      ]
    },
    {
      "cell_type": "markdown",
      "source": [
        "## Missing Values Analysis"
      ],
      "metadata": {
        "_cell_guid": "eb5042d6-e8e2-1182-16ab-c60468e9baa2",
        "id": "EtICLvnpbpsv"
      }
    },
    {
      "cell_type": "markdown",
      "source": [
        "Once we get hang of the data and columns, next step we geneally is to find out whether we have any missing values in our data. Luckily we dont have any missing value in the dataset. One way which I generally prefer to visualize missing value in the dataset is through \"missingno\".\n",
        "\n",
        "Its a quiet handy library to quickly visualize variables for missing values. As I mentioned earlier we got lucky this time as there no missing value in the dataset."
      ],
      "metadata": {
        "_cell_guid": "d3dfb2ef-0038-3dfd-928d-890eeba0c09a",
        "id": "OTERj_8fbpsw"
      }
    },
    {
      "cell_type": "markdown",
      "source": [
        "## Skewness In Distribution ##"
      ],
      "metadata": {
        "_cell_guid": "16c28ee3-ff41-1660-5151-c5631577c3ad",
        "id": "qkW7CYo_bpsw"
      }
    },
    {
      "cell_type": "code",
      "source": [
        "msno.matrix(dailyData,figsize=(12,5))"
      ],
      "metadata": {
        "_cell_guid": "78650893-559b-0124-8c49-48268baad5fb",
        "execution": {
          "iopub.status.busy": "2024-10-04T19:28:25.231103Z",
          "iopub.status.idle": "2024-10-04T19:28:25.231552Z",
          "shell.execute_reply.started": "2024-10-04T19:28:25.231325Z",
          "shell.execute_reply": "2024-10-04T19:28:25.231346Z"
        },
        "trusted": true,
        "id": "kdjPxB-Fbpsw"
      },
      "execution_count": null,
      "outputs": []
    },
    {
      "cell_type": "markdown",
      "source": [
        "## Outliers Analysis\n",
        "\n",
        "At first look, \"count\" variable contains lot of outlier data points which skews the distribution towards right (as there are more data points beyond Outer Quartile Limit).But in addition to that, following inferences can also been made from the simple boxplots given below.\n",
        "\n",
        " - Spring season has got relatively lower count.The dip in median value\n",
        "   in boxplot gives evidence for it.\n",
        " - The boxplot with \"Hour Of The Day\" is quiet interesting.The median value are relatively higher at 7AM - 8AM and 5PM - 6PM. It can be attributed to regular school and office users at that time.\n",
        " - Most of the outlier points are mainly contributed from \"Working Day\" than \"Non Working Day\". It is quiet visible from from figure 4."
      ],
      "metadata": {
        "_cell_guid": "60e79824-cc02-6bc9-d3b4-d5b8753a54ef",
        "id": "AbhVjpqbbpsx"
      }
    },
    {
      "cell_type": "code",
      "source": [
        "fig, axes = plt.subplots(nrows=2,ncols=2)\n",
        "fig.set_size_inches(12, 10)\n",
        "sn.boxplot(data=dailyData,y=\"count\",orient=\"v\",ax=axes[0][0])\n",
        "sn.boxplot(data=dailyData,y=\"count\",x=\"season\",orient=\"v\",ax=axes[0][1])\n",
        "sn.boxplot(data=dailyData,y=\"count\",x=\"hour\",orient=\"v\",ax=axes[1][0])\n",
        "sn.boxplot(data=dailyData,y=\"count\",x=\"workingday\",orient=\"v\",ax=axes[1][1])\n",
        "\n",
        "axes[0][0].set(ylabel='Count',title=\"Box Plot On Count\")\n",
        "axes[0][1].set(xlabel='Season', ylabel='Count',title=\"Box Plot On Count Across Season\")\n",
        "axes[1][0].set(xlabel='Hour Of The Day', ylabel='Count',title=\"Box Plot On Count Across Hour Of The Day\")\n",
        "axes[1][1].set(xlabel='Working Day', ylabel='Count',title=\"Box Plot On Count Across Working Day\")"
      ],
      "metadata": {
        "_cell_guid": "e17e9a96-2d8f-5ba7-19b8-9f1f35709bb9",
        "execution": {
          "iopub.status.busy": "2024-10-04T19:28:25.233258Z",
          "iopub.status.idle": "2024-10-04T19:28:25.233879Z",
          "shell.execute_reply.started": "2024-10-04T19:28:25.233557Z",
          "shell.execute_reply": "2024-10-04T19:28:25.233589Z"
        },
        "trusted": true,
        "id": "L_ue0iEZbpsx"
      },
      "execution_count": null,
      "outputs": []
    },
    {
      "cell_type": "markdown",
      "source": [
        "#### **Lets Remove Outliers In The Count Column**"
      ],
      "metadata": {
        "_cell_guid": "687cad46-2854-3af7-bb10-7c0e96153adf",
        "id": "biDK_5Mkbpsx"
      }
    },
    {
      "cell_type": "code",
      "source": [
        "dailyDataWithoutOutliers = dailyData[np.abs(dailyData[\"count\"]-dailyData[\"count\"].mean())<=(3*dailyData[\"count\"].std())]"
      ],
      "metadata": {
        "_cell_guid": "f95999f0-f66c-9c86-15f8-0da1587626a4",
        "execution": {
          "iopub.status.busy": "2024-10-04T19:28:25.235643Z",
          "iopub.status.idle": "2024-10-04T19:28:25.236222Z",
          "shell.execute_reply.started": "2024-10-04T19:28:25.235917Z",
          "shell.execute_reply": "2024-10-04T19:28:25.235947Z"
        },
        "trusted": true,
        "id": "-M6aBu6fbpsy"
      },
      "execution_count": null,
      "outputs": []
    },
    {
      "cell_type": "code",
      "source": [
        "print (\"Shape Of The Before Ouliers: \",dailyData.shape)\n",
        "print (\"Shape Of The After Ouliers: \",dailyDataWithoutOutliers.shape)"
      ],
      "metadata": {
        "_cell_guid": "279d83c5-8aef-da21-6651-bfd4c048a5ec",
        "execution": {
          "iopub.status.busy": "2024-10-04T19:28:25.238283Z",
          "iopub.status.idle": "2024-10-04T19:28:25.238735Z",
          "shell.execute_reply.started": "2024-10-04T19:28:25.238509Z",
          "shell.execute_reply": "2024-10-04T19:28:25.238539Z"
        },
        "trusted": true,
        "id": "4EPtW8Umbpsy"
      },
      "execution_count": null,
      "outputs": []
    },
    {
      "cell_type": "markdown",
      "source": [
        "## Correlation Analysis\n",
        "\n",
        "One common to understand how a dependent variable is influenced by features (numerical) is to fibd a correlation matrix between them. Lets plot a correlation plot between \"count\" and [\"temp\",\"atemp\",\"humidity\",\"windspeed\"].\n",
        "\n",
        " - temp and humidity features has got positive and negative correlation\n",
        "   with count respectively.Although the correlation between them are not\n",
        "   very prominent still the count variable has got little dependency on\n",
        "   \"temp\" and \"humidity\".\n",
        " - windspeed is not gonna be really useful numerical feature and it is visible from it correlation value with \"count\"\n",
        " - \"atemp\" is variable is not taken into since \"atemp\" and \"temp\" has got strong correlation with each other. During model building any one of the variable has to be dropped since they will exhibit multicollinearity in the data.\n",
        " - \"Casual\" and \"Registered\" are also not taken into account since they are leakage variables in nature and need to dropped during model building.\n",
        "\n",
        "Regression plot in seaborn is one useful way to depict the relationship between two features. Here we consider \"count\" vs \"temp\", \"humidity\", \"windspeed\"."
      ],
      "metadata": {
        "_cell_guid": "6bea646e-0102-30ef-d0e1-c745f95194a9",
        "id": "D15RKOd8bpsy"
      }
    },
    {
      "cell_type": "code",
      "source": [
        "corrMatt = dailyData[[\"temp\",\"atemp\",\"casual\",\"registered\",\"humidity\",\"windspeed\",\"count\"]].corr()\n",
        "mask = np.array(corrMatt)\n",
        "mask[np.tril_indices_from(mask)] = False\n",
        "fig,ax= plt.subplots()\n",
        "fig.set_size_inches(20,10)\n",
        "sn.heatmap(corrMatt, mask=mask,vmax=.8, square=True,annot=True)"
      ],
      "metadata": {
        "_cell_guid": "fb27892c-7f5d-3d41-fe11-77576d2575d8",
        "execution": {
          "iopub.status.busy": "2024-10-04T19:28:25.240369Z",
          "iopub.status.idle": "2024-10-04T19:28:25.241188Z",
          "shell.execute_reply.started": "2024-10-04T19:28:25.24094Z",
          "shell.execute_reply": "2024-10-04T19:28:25.240965Z"
        },
        "trusted": true,
        "id": "CFDX-0wfbpsy"
      },
      "execution_count": null,
      "outputs": []
    },
    {
      "cell_type": "code",
      "source": [
        "fig,(ax1,ax2,ax3) = plt.subplots(ncols=3)\n",
        "fig.set_size_inches(12, 5)\n",
        "sn.regplot(x=\"temp\", y=\"count\", data=dailyData,ax=ax1)\n",
        "sn.regplot(x=\"windspeed\", y=\"count\", data=dailyData,ax=ax2)\n",
        "sn.regplot(x=\"humidity\", y=\"count\", data=dailyData,ax=ax3)"
      ],
      "metadata": {
        "_cell_guid": "779aa113-243f-3abc-09c9-67292ace3947",
        "execution": {
          "iopub.status.busy": "2024-10-04T19:28:25.242178Z",
          "iopub.status.idle": "2024-10-04T19:28:25.243076Z",
          "shell.execute_reply.started": "2024-10-04T19:28:25.242385Z",
          "shell.execute_reply": "2024-10-04T19:28:25.242407Z"
        },
        "trusted": true,
        "id": "C7NcOYJDbpsz"
      },
      "execution_count": null,
      "outputs": []
    },
    {
      "cell_type": "markdown",
      "source": [
        "## Visualizing Distribution Of Data\n",
        "As it is visible from the below figures that \"count\" variable is skewed towards right. It is desirable to have Normal distribution as most of the machine learning techniques require dependent variable to be Normal. One possible solution is to take log transformation on \"count\" variable after removing outlier data points. After the transformation the data looks lot better but still not ideally following normal distribution."
      ],
      "metadata": {
        "_cell_guid": "44d05ac3-327f-26ce-cc4a-f2d1e077a9a0",
        "id": "q0POnP7Dbpsz"
      }
    },
    {
      "cell_type": "code",
      "source": [
        "fig,axes = plt.subplots(ncols=2,nrows=2)\n",
        "fig.set_size_inches(12, 10)\n",
        "sn.distplot(dailyData[\"count\"],ax=axes[0][0])\n",
        "stats.probplot(dailyData[\"count\"], dist='norm', fit=True, plot=axes[0][1])\n",
        "sn.distplot(np.log(dailyDataWithoutOutliers[\"count\"]),ax=axes[1][0])\n",
        "stats.probplot(np.log1p(dailyDataWithoutOutliers[\"count\"]), dist='norm', fit=True, plot=axes[1][1])"
      ],
      "metadata": {
        "_cell_guid": "6b0caaf4-4215-e3bc-d6b4-7914696c668f",
        "execution": {
          "iopub.status.busy": "2024-10-04T19:28:25.245193Z",
          "iopub.status.idle": "2024-10-04T19:28:25.24566Z",
          "shell.execute_reply.started": "2024-10-04T19:28:25.245416Z",
          "shell.execute_reply": "2024-10-04T19:28:25.245437Z"
        },
        "trusted": true,
        "id": "4wiu1OUqbps6"
      },
      "execution_count": null,
      "outputs": []
    },
    {
      "cell_type": "markdown",
      "source": [
        "## Visualizing Count Vs (Month,Season,Hour,Weekday,Usertype)\n",
        "\n",
        " - It is quiet obvious that people tend to rent bike during summer\n",
        "   season since it is really conducive to ride bike at that\n",
        "   season.Therefore June, July and August has got relatively higher\n",
        "   demand for bicycle.\n",
        " - On weekdays more people tend to rent bicycle around 7AM-8AM and 5PM-6PM. As we mentioned earlier this can be attributed to regular school and office commuters.\n",
        " - Above pattern is not observed on \"Saturday\" and \"Sunday\".More people tend to rent bicycle between 10AM and 4PM.\n",
        " - The peak user count around 7AM-8AM and 5PM-6PM is purely contributed by registered user."
      ],
      "metadata": {
        "_cell_guid": "d15f1bf9-f695-c69a-a673-db356620bcea",
        "id": "2COr6xh5bptD"
      }
    },
    {
      "cell_type": "code",
      "source": [
        "fig,(ax1,ax2,ax3,ax4)= plt.subplots(nrows=4)\n",
        "fig.set_size_inches(12,20)\n",
        "sortOrder = [\"January\",\"February\",\"March\",\"April\",\"May\",\"June\",\"July\",\"August\",\"September\",\"October\",\"November\",\"December\"]\n",
        "hueOrder = [\"Sunday\",\"Monday\",\"Tuesday\",\"Wednesday\",\"Thursday\",\"Friday\",\"Saturday\"]\n",
        "\n",
        "monthAggregated = pd.DataFrame(dailyData.groupby(\"month\")[\"count\"].mean()).reset_index()\n",
        "monthSorted = monthAggregated.sort_values(by=\"count\",ascending=False)\n",
        "sn.barplot(data=monthSorted,x=\"month\",y=\"count\",ax=ax1,order=sortOrder)\n",
        "ax1.set(xlabel='Month', ylabel='Avearage Count',title=\"Average Count By Month\")\n",
        "\n",
        "hourAggregated = pd.DataFrame(dailyData.groupby([\"hour\",\"season\"],sort=True)[\"count\"].mean()).reset_index()\n",
        "sn.pointplot(x=hourAggregated[\"hour\"], y=hourAggregated[\"count\"],hue=hourAggregated[\"season\"], data=hourAggregated, join=True,ax=ax2)\n",
        "ax2.set(xlabel='Hour Of The Day', ylabel='Users Count',title=\"Average Users Count By Hour Of The Day Across Season\",label='big')\n",
        "\n",
        "hourAggregated = pd.DataFrame(dailyData.groupby([\"hour\",\"weekday\"],sort=True)[\"count\"].mean()).reset_index()\n",
        "sn.pointplot(x=hourAggregated[\"hour\"], y=hourAggregated[\"count\"],hue=hourAggregated[\"weekday\"],hue_order=hueOrder, data=hourAggregated, join=True,ax=ax3)\n",
        "ax3.set(xlabel='Hour Of The Day', ylabel='Users Count',title=\"Average Users Count By Hour Of The Day Across Weekdays\",label='big')\n",
        "\n",
        "hourTransformed = pd.melt(dailyData[[\"hour\",\"casual\",\"registered\"]], id_vars=['hour'], value_vars=['casual', 'registered'])\n",
        "hourAggregated = pd.DataFrame(hourTransformed.groupby([\"hour\",\"variable\"],sort=True)[\"value\"].mean()).reset_index()\n",
        "sn.pointplot(x=hourAggregated[\"hour\"], y=hourAggregated[\"value\"],hue=hourAggregated[\"variable\"],hue_order=[\"casual\",\"registered\"], data=hourAggregated, join=True,ax=ax4)\n",
        "ax4.set(xlabel='Hour Of The Day', ylabel='Users Count',title=\"Average Users Count By Hour Of The Day Across User Type\",label='big')"
      ],
      "metadata": {
        "_cell_guid": "1c8b97d1-8022-a64a-8d7f-60254955b47e",
        "execution": {
          "iopub.status.busy": "2024-10-04T19:28:25.246862Z",
          "iopub.status.idle": "2024-10-04T19:28:25.247267Z",
          "shell.execute_reply.started": "2024-10-04T19:28:25.247056Z",
          "shell.execute_reply": "2024-10-04T19:28:25.247078Z"
        },
        "trusted": true,
        "id": "jojszxgSbptE"
      },
      "execution_count": null,
      "outputs": []
    },
    {
      "cell_type": "markdown",
      "source": [
        "**So we have visualized the data to a greater extent.So lets go and  build some models and see how close we can predict the results.**"
      ],
      "metadata": {
        "_cell_guid": "eaf70e2b-13e7-1a57-511f-63b4f5e7ecdb",
        "id": "YtxHZK0KbptE"
      }
    },
    {
      "cell_type": "markdown",
      "source": [
        "## Filling 0's In windspeed Using Random Forest ##"
      ],
      "metadata": {
        "_cell_guid": "afda4292-812e-978e-5a5b-90b510fc3fa2",
        "id": "bQcEvnqwbptF"
      }
    },
    {
      "cell_type": "markdown",
      "source": [
        "**Lets Read In Train And Test Data**"
      ],
      "metadata": {
        "_cell_guid": "4c661154-8c8d-ea89-62c6-51950a7a5c02",
        "id": "AVIFgNDRbptF"
      }
    },
    {
      "cell_type": "code",
      "source": [
        "dataTrain = pd.read_csv(\"../input/train.csv\")\n",
        "dataTest = pd.read_csv(\"../input/test.csv\")"
      ],
      "metadata": {
        "_cell_guid": "46dcd640-2b74-4086-f735-ddae598c7270",
        "execution": {
          "iopub.status.busy": "2024-10-04T19:28:25.248683Z",
          "iopub.status.idle": "2024-10-04T19:28:25.24945Z",
          "shell.execute_reply.started": "2024-10-04T19:28:25.249199Z",
          "shell.execute_reply": "2024-10-04T19:28:25.249227Z"
        },
        "trusted": true,
        "id": "s4RC43vJbptF"
      },
      "execution_count": null,
      "outputs": []
    },
    {
      "cell_type": "markdown",
      "source": [
        "**Combine Train And Test**"
      ],
      "metadata": {
        "_cell_guid": "c49f4bbf-53dd-e991-f481-7ece36e8e04e",
        "id": "tFlJSii_bptG"
      }
    },
    {
      "cell_type": "code",
      "source": [
        "data = dataTrain.append(dataTest)\n",
        "data.reset_index(inplace=True)\n",
        "data.drop('index',inplace=True,axis=1)"
      ],
      "metadata": {
        "_cell_guid": "2f3c6349-9989-c85e-3e3a-c8a91816c862",
        "execution": {
          "iopub.status.busy": "2024-10-04T19:28:25.251092Z",
          "iopub.status.idle": "2024-10-04T19:28:25.251548Z",
          "shell.execute_reply.started": "2024-10-04T19:28:25.251302Z",
          "shell.execute_reply": "2024-10-04T19:28:25.25133Z"
        },
        "trusted": true,
        "id": "RbL-FlGabptG"
      },
      "execution_count": null,
      "outputs": []
    },
    {
      "cell_type": "markdown",
      "source": [
        "**Feature Engineering**"
      ],
      "metadata": {
        "_cell_guid": "c48029bc-78fd-9ce3-3c2f-86e44470e099",
        "id": "LJkzsqZ5bptH"
      }
    },
    {
      "cell_type": "code",
      "source": [
        "data[\"date\"] = data.datetime.apply(lambda x : x.split()[0])\n",
        "data[\"hour\"] = data.datetime.apply(lambda x : x.split()[1].split(\":\")[0]).astype(\"int\")\n",
        "data[\"year\"] = data.datetime.apply(lambda x : x.split()[0].split(\"-\")[0])\n",
        "data[\"weekday\"] = data.date.apply(lambda dateString : datetime.strptime(dateString,\"%Y-%m-%d\").weekday())\n",
        "data[\"month\"] = data.date.apply(lambda dateString : datetime.strptime(dateString,\"%Y-%m-%d\").month)"
      ],
      "metadata": {
        "_cell_guid": "24ee29ce-05cf-43e8-7e54-6c383bc4ac29",
        "execution": {
          "iopub.status.busy": "2024-10-04T19:28:25.252779Z",
          "iopub.status.idle": "2024-10-04T19:28:25.25321Z",
          "shell.execute_reply.started": "2024-10-04T19:28:25.253Z",
          "shell.execute_reply": "2024-10-04T19:28:25.253023Z"
        },
        "trusted": true,
        "id": "8HmsliMlbptH"
      },
      "execution_count": null,
      "outputs": []
    },
    {
      "cell_type": "markdown",
      "source": [
        "**Random Forest Model To Predict 0's In Windspeed**"
      ],
      "metadata": {
        "_cell_guid": "29f62c82-6092-12b8-0991-a3566799c469",
        "id": "lpGvYNi5bptH"
      }
    },
    {
      "cell_type": "code",
      "source": [
        "from sklearn.ensemble import RandomForestRegressor\n",
        "\n",
        "dataWind0 = data[data[\"windspeed\"]==0]\n",
        "dataWindNot0 = data[data[\"windspeed\"]!=0]\n",
        "rfModel_wind = RandomForestRegressor()\n",
        "windColumns = [\"season\",\"weather\",\"humidity\",\"month\",\"temp\",\"year\",\"atemp\"]\n",
        "rfModel_wind.fit(dataWindNot0[windColumns], dataWindNot0[\"windspeed\"])\n",
        "\n",
        "wind0Values = rfModel_wind.predict(X= dataWind0[windColumns])\n",
        "dataWind0[\"windspeed\"] = wind0Values\n",
        "data = dataWindNot0.append(dataWind0)\n",
        "data.reset_index(inplace=True)\n",
        "data.drop('index',inplace=True,axis=1)"
      ],
      "metadata": {
        "_cell_guid": "b70d0e4e-942e-b760-6bff-7e44d5a164c7",
        "execution": {
          "iopub.status.busy": "2024-10-04T19:28:25.255122Z",
          "iopub.status.idle": "2024-10-04T19:28:25.255563Z",
          "shell.execute_reply.started": "2024-10-04T19:28:25.255327Z",
          "shell.execute_reply": "2024-10-04T19:28:25.255349Z"
        },
        "trusted": true,
        "id": "qFMZTlM8bptI"
      },
      "execution_count": null,
      "outputs": []
    },
    {
      "cell_type": "markdown",
      "source": [
        "**Coercing To Categorical Type**"
      ],
      "metadata": {
        "_cell_guid": "465940a0-450a-2c4f-5463-64e2dce719db",
        "id": "Tg-Hfw-hbptI"
      }
    },
    {
      "cell_type": "code",
      "source": [
        "categoricalFeatureNames = [\"season\",\"holiday\",\"workingday\",\"weather\",\"weekday\",\"month\",\"year\",\"hour\"]\n",
        "numericalFeatureNames = [\"temp\",\"humidity\",\"windspeed\",\"atemp\"]\n",
        "dropFeatures = ['casual',\"count\",\"datetime\",\"date\",\"registered\"]"
      ],
      "metadata": {
        "_cell_guid": "105c47bc-b67e-aa6c-2f11-1e7da597dc6a",
        "execution": {
          "iopub.status.busy": "2024-10-04T19:28:25.257203Z",
          "iopub.status.idle": "2024-10-04T19:28:25.257655Z",
          "shell.execute_reply.started": "2024-10-04T19:28:25.25741Z",
          "shell.execute_reply": "2024-10-04T19:28:25.257432Z"
        },
        "trusted": true,
        "id": "mg5scq2GbptI"
      },
      "execution_count": null,
      "outputs": []
    },
    {
      "cell_type": "code",
      "source": [
        "for var in categoricalFeatureNames:\n",
        "    data[var] = data[var].astype(\"category\")"
      ],
      "metadata": {
        "_cell_guid": "c4374d94-b234-a092-5465-e5f0576c0c48",
        "execution": {
          "iopub.status.busy": "2024-10-04T19:28:25.261389Z",
          "iopub.status.idle": "2024-10-04T19:28:25.262152Z",
          "shell.execute_reply.started": "2024-10-04T19:28:25.261919Z",
          "shell.execute_reply": "2024-10-04T19:28:25.261943Z"
        },
        "trusted": true,
        "id": "n7-j2iCJbptJ"
      },
      "execution_count": null,
      "outputs": []
    },
    {
      "cell_type": "markdown",
      "source": [
        "**Splitting Train And Test Data**"
      ],
      "metadata": {
        "_cell_guid": "890dad12-8206-0df8-2f67-e7f7795e01b8",
        "id": "yBXzWLsGbptJ"
      }
    },
    {
      "cell_type": "code",
      "source": [
        "dataTrain = data[pd.notnull(data['count'])].sort_values(by=[\"datetime\"])\n",
        "dataTest = data[~pd.notnull(data['count'])].sort_values(by=[\"datetime\"])\n",
        "datetimecol = dataTest[\"datetime\"]\n",
        "yLabels = dataTrain[\"count\"]\n",
        "yLablesRegistered = dataTrain[\"registered\"]\n",
        "yLablesCasual = dataTrain[\"casual\"]"
      ],
      "metadata": {
        "_cell_guid": "578f98ce-21cd-cfde-abec-48578a661e46",
        "execution": {
          "iopub.status.busy": "2024-10-04T19:28:25.263729Z",
          "iopub.status.idle": "2024-10-04T19:28:25.264298Z",
          "shell.execute_reply.started": "2024-10-04T19:28:25.263993Z",
          "shell.execute_reply": "2024-10-04T19:28:25.264023Z"
        },
        "trusted": true,
        "id": "sP9QKr7cbptJ"
      },
      "execution_count": null,
      "outputs": []
    },
    {
      "cell_type": "markdown",
      "source": [
        "**Dropping  Unncessary Variables**"
      ],
      "metadata": {
        "_cell_guid": "9a58b32c-2388-8609-5f65-66e167c5cfea",
        "id": "HNuyF5wDbptK"
      }
    },
    {
      "cell_type": "code",
      "source": [
        "dataTrain  = dataTrain.drop(dropFeatures,axis=1)\n",
        "dataTest  = dataTest.drop(dropFeatures,axis=1)"
      ],
      "metadata": {
        "_cell_guid": "abe9b184-e467-e754-65cd-7a419dd5dd51",
        "execution": {
          "iopub.status.busy": "2024-10-04T19:28:25.266351Z",
          "iopub.status.idle": "2024-10-04T19:28:25.266936Z",
          "shell.execute_reply.started": "2024-10-04T19:28:25.266638Z",
          "shell.execute_reply": "2024-10-04T19:28:25.266668Z"
        },
        "trusted": true,
        "id": "1ZjIkNQ5bptK"
      },
      "execution_count": null,
      "outputs": []
    },
    {
      "cell_type": "markdown",
      "source": [
        "**RMSLE Scorer**"
      ],
      "metadata": {
        "_cell_guid": "89628bfa-241c-6681-8b5f-88b1adbc36da",
        "id": "eirYfpX3bptK"
      }
    },
    {
      "cell_type": "code",
      "source": [
        "def rmsle(y, y_,convertExp=True):\n",
        "    if convertExp:\n",
        "        y = np.exp(y),\n",
        "        y_ = np.exp(y_)\n",
        "    log1 = np.nan_to_num(np.array([np.log(v + 1) for v in y]))\n",
        "    log2 = np.nan_to_num(np.array([np.log(v + 1) for v in y_]))\n",
        "    calc = (log1 - log2) ** 2\n",
        "    return np.sqrt(np.mean(calc))"
      ],
      "metadata": {
        "_cell_guid": "25489d1b-5828-6daf-e03f-b83c20f30fe1",
        "execution": {
          "iopub.status.busy": "2024-10-04T19:28:25.268723Z",
          "iopub.status.idle": "2024-10-04T19:28:25.269302Z",
          "shell.execute_reply.started": "2024-10-04T19:28:25.269001Z",
          "shell.execute_reply": "2024-10-04T19:28:25.26903Z"
        },
        "trusted": true,
        "id": "E3oCjpg8bptL"
      },
      "execution_count": null,
      "outputs": []
    },
    {
      "cell_type": "markdown",
      "source": [
        "## **Linear Regression Model** ##"
      ],
      "metadata": {
        "_cell_guid": "53111418-c6cc-b02e-2395-a04e45b1298a",
        "id": "RnS5aDFjbptL"
      }
    },
    {
      "cell_type": "code",
      "source": [
        "from sklearn.linear_model import LinearRegression,Ridge,Lasso\n",
        "from sklearn.model_selection import GridSearchCV\n",
        "from sklearn import metrics\n",
        "import warnings\n",
        "pd.options.mode.chained_assignment = None\n",
        "warnings.filterwarnings(\"ignore\", category=DeprecationWarning)\n",
        "\n",
        "# Initialize logistic regression model\n",
        "lModel = LinearRegression()\n",
        "\n",
        "# Train the model\n",
        "yLabelsLog = np.log1p(yLabels)\n",
        "lModel.fit(X = dataTrain,y = yLabelsLog)\n",
        "\n",
        "# Make predictions\n",
        "preds = lModel.predict(X= dataTrain)\n",
        "print (\"RMSLE Value For Linear Regression: \",rmsle(np.exp(yLabelsLog),np.exp(preds),False))"
      ],
      "metadata": {
        "_cell_guid": "3d49a999-6d78-ea4d-06df-2ae7ccc82015",
        "execution": {
          "iopub.status.busy": "2024-10-04T19:28:25.271204Z",
          "iopub.status.idle": "2024-10-04T19:28:25.271662Z",
          "shell.execute_reply.started": "2024-10-04T19:28:25.271414Z",
          "shell.execute_reply": "2024-10-04T19:28:25.271437Z"
        },
        "trusted": true,
        "id": "Hx6ffFU2bptL"
      },
      "execution_count": null,
      "outputs": []
    },
    {
      "cell_type": "code",
      "source": [
        "ridge_m_ = Ridge()\n",
        "ridge_params_ = { 'max_iter':[3000],'alpha':[0.1, 1, 2, 3, 4, 10, 30,100,200,300,400,800,900,1000]}\n",
        "rmsle_scorer = metrics.make_scorer(rmsle, greater_is_better=False)\n",
        "grid_ridge_m = GridSearchCV( ridge_m_,\n",
        "                          ridge_params_,\n",
        "                          scoring = rmsle_scorer,\n",
        "                          cv=5)\n",
        "yLabelsLog = np.log1p(yLabels)\n",
        "grid_ridge_m.fit( dataTrain, yLabelsLog )\n",
        "preds = grid_ridge_m.predict(X= dataTrain)\n",
        "print (grid_ridge_m.best_params_)\n",
        "print (\"RMSLE Value For Ridge Regression: \",rmsle(np.exp(yLabelsLog),np.exp(preds),False))\n",
        "\n",
        "fig,ax= plt.subplots()\n",
        "fig.set_size_inches(12,5)\n",
        "df = pd.DataFrame(grid_ridge_m.grid_scores_)\n",
        "df[\"alpha\"] = df[\"parameters\"].apply(lambda x:x[\"alpha\"])\n",
        "df[\"rmsle\"] = df[\"mean_validation_score\"].apply(lambda x:-x)\n",
        "sn.pointplot(data=df,x=\"alpha\",y=\"rmsle\",ax=ax)"
      ],
      "metadata": {
        "_cell_guid": "32e1cb75-841d-9220-b806-db494d70fc1e",
        "execution": {
          "iopub.status.busy": "2024-10-04T19:28:25.273541Z",
          "iopub.status.idle": "2024-10-04T19:28:25.274002Z",
          "shell.execute_reply.started": "2024-10-04T19:28:25.273755Z",
          "shell.execute_reply": "2024-10-04T19:28:25.273777Z"
        },
        "trusted": true,
        "id": "yKj_qM1rbptM"
      },
      "execution_count": null,
      "outputs": []
    },
    {
      "cell_type": "markdown",
      "source": [
        "## **Regularization Model - Lasso** ##"
      ],
      "metadata": {
        "_cell_guid": "c3bf7024-fcef-212d-98a2-6e9357b904b7",
        "id": "QLR4K1ecbptM"
      }
    },
    {
      "cell_type": "code",
      "source": [
        "lasso_m_ = Lasso()\n",
        "\n",
        "alpha  = 1/np.array([0.1, 1, 2, 3, 4, 10, 30,100,200,300,400,800,900,1000])\n",
        "lasso_params_ = { 'max_iter':[3000],'alpha':alpha}\n",
        "\n",
        "grid_lasso_m = GridSearchCV( lasso_m_,lasso_params_,scoring = rmsle_scorer,cv=5)\n",
        "yLabelsLog = np.log1p(yLabels)\n",
        "grid_lasso_m.fit( dataTrain, yLabelsLog )\n",
        "preds = grid_lasso_m.predict(X= dataTrain)\n",
        "print (grid_lasso_m.best_params_)\n",
        "print (\"RMSLE Value For Lasso Regression: \",rmsle(np.exp(yLabelsLog),np.exp(preds),False))\n",
        "\n",
        "fig,ax= plt.subplots()\n",
        "fig.set_size_inches(12,5)\n",
        "df = pd.DataFrame(grid_lasso_m.grid_scores_)\n",
        "df[\"alpha\"] = df[\"parameters\"].apply(lambda x:x[\"alpha\"])\n",
        "df[\"rmsle\"] = df[\"mean_validation_score\"].apply(lambda x:-x)\n",
        "sn.pointplot(data=df,x=\"alpha\",y=\"rmsle\",ax=ax)"
      ],
      "metadata": {
        "_cell_guid": "c3fed778-0da1-1a38-de38-3d5dd752924b",
        "execution": {
          "iopub.status.busy": "2024-10-04T19:28:25.275965Z",
          "iopub.status.idle": "2024-10-04T19:28:25.276568Z",
          "shell.execute_reply.started": "2024-10-04T19:28:25.276254Z",
          "shell.execute_reply": "2024-10-04T19:28:25.276284Z"
        },
        "trusted": true,
        "id": "FNa704qfbptM"
      },
      "execution_count": null,
      "outputs": []
    },
    {
      "cell_type": "markdown",
      "source": [
        "##**Ensemble Models - Random Forest**##"
      ],
      "metadata": {
        "_cell_guid": "0c4041a1-bbe5-1f8b-7277-52469fca3d4d",
        "id": "pSMEFvF6bptN"
      }
    },
    {
      "cell_type": "code",
      "source": [
        "from sklearn.ensemble import RandomForestRegressor\n",
        "rfModel = RandomForestRegressor(n_estimators=100)\n",
        "yLabelsLog = np.log1p(yLabels)\n",
        "rfModel.fit(dataTrain,yLabelsLog)\n",
        "preds = rfModel.predict(X= dataTrain)\n",
        "print (\"RMSLE Value For Random Forest: \",rmsle(np.exp(yLabelsLog),np.exp(preds),False))"
      ],
      "metadata": {
        "_cell_guid": "f72f7344-e4aa-f545-1637-ada386590401",
        "execution": {
          "iopub.status.busy": "2024-10-04T19:28:25.278936Z",
          "iopub.status.idle": "2024-10-04T19:28:25.279511Z",
          "shell.execute_reply.started": "2024-10-04T19:28:25.279205Z",
          "shell.execute_reply": "2024-10-04T19:28:25.279236Z"
        },
        "trusted": true,
        "id": "NC3c5zfXbptN"
      },
      "execution_count": null,
      "outputs": []
    },
    {
      "cell_type": "markdown",
      "source": [
        "## **Ensemble Model - Gradient Boost** ##"
      ],
      "metadata": {
        "_cell_guid": "1b797790-a5e9-66a9-6782-d71672de3035",
        "id": "P-f5U4YGbptO"
      }
    },
    {
      "cell_type": "code",
      "source": [
        "from sklearn.ensemble import GradientBoostingRegressor\n",
        "gbm = GradientBoostingRegressor(n_estimators=4000,alpha=0.01); ### Test 0.41\n",
        "yLabelsLog = np.log1p(yLabels)\n",
        "gbm.fit(dataTrain,yLabelsLog)\n",
        "preds = gbm.predict(X= dataTrain)\n",
        "print (\"RMSLE Value For Gradient Boost: \",rmsle(np.exp(yLabelsLog),np.exp(preds),False))"
      ],
      "metadata": {
        "_cell_guid": "68cab822-1b41-45e2-0168-289136c123d6",
        "execution": {
          "iopub.status.busy": "2024-10-04T19:28:25.28154Z",
          "iopub.status.idle": "2024-10-04T19:28:25.281981Z",
          "shell.execute_reply.started": "2024-10-04T19:28:25.281755Z",
          "shell.execute_reply": "2024-10-04T19:28:25.281777Z"
        },
        "trusted": true,
        "id": "mPBTqHDIbptO"
      },
      "execution_count": null,
      "outputs": []
    },
    {
      "cell_type": "markdown",
      "source": [
        "**Lets compare the distribution of train and test results. More or less the distribution of train and test looks identical. It  confirms visually that our model has not predicted really bad and not suffering from major overfitting problem.**"
      ],
      "metadata": {
        "_cell_guid": "e99c6b8c-14a1-ccda-b9b1-a75799268b1a",
        "id": "qxaBmr4UbptO"
      }
    },
    {
      "cell_type": "code",
      "source": [
        "predsTest = gbm.predict(X= dataTest)\n",
        "fig,(ax1,ax2)= plt.subplots(ncols=2)\n",
        "fig.set_size_inches(12,5)\n",
        "sn.distplot(yLabels,ax=ax1,bins=50)\n",
        "sn.distplot(np.exp(predsTest),ax=ax2,bins=50)"
      ],
      "metadata": {
        "_cell_guid": "5084c12d-b82c-5bdf-e654-256a3d91c25d",
        "execution": {
          "iopub.status.busy": "2024-10-04T19:28:25.283578Z",
          "iopub.status.idle": "2024-10-04T19:28:25.284012Z",
          "shell.execute_reply.started": "2024-10-04T19:28:25.283785Z",
          "shell.execute_reply": "2024-10-04T19:28:25.283807Z"
        },
        "trusted": true,
        "id": "nRQMTiWqbptO"
      },
      "execution_count": null,
      "outputs": []
    },
    {
      "cell_type": "code",
      "source": [
        "submission = pd.DataFrame({\n",
        "        \"datetime\": datetimecol,\n",
        "        \"count\": [max(0, x) for x in np.exp(predsTest)]\n",
        "    })\n",
        "submission.to_csv('bike_predictions_gbm_separate_without_fe.csv', index=False)"
      ],
      "metadata": {
        "_cell_guid": "310fc4e0-f613-9761-1957-891d0baed16b",
        "execution": {
          "iopub.status.busy": "2024-10-04T19:28:25.285251Z",
          "iopub.status.idle": "2024-10-04T19:28:25.285703Z",
          "shell.execute_reply.started": "2024-10-04T19:28:25.285457Z",
          "shell.execute_reply": "2024-10-04T19:28:25.285478Z"
        },
        "trusted": true,
        "id": "X9QNRxa2bptP"
      },
      "execution_count": null,
      "outputs": []
    },
    {
      "cell_type": "markdown",
      "source": [
        "**The submission will have test score of 0.41**"
      ],
      "metadata": {
        "_cell_guid": "38e2142a-4faa-a9e8-64ea-6e7bb61a5eb8",
        "id": "rIHjJxu3bptP"
      }
    },
    {
      "cell_type": "markdown",
      "source": [
        "## **Kindly Upvote if You Find It Useful**"
      ],
      "metadata": {
        "_cell_guid": "23584799-059e-1fbc-bad5-0fdac11f0344",
        "id": "IvhKT9kjbptP"
      }
    },
    {
      "cell_type": "code",
      "source": [],
      "metadata": {
        "_cell_guid": "6487f456-f1dc-680b-51fd-9ec8b45d1bac",
        "id": "eFoj5w6ybptP"
      },
      "execution_count": null,
      "outputs": []
    }
  ]
}